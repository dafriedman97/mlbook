{
 "cells": [
  {
   "cell_type": "markdown",
   "metadata": {},
   "source": [
    "# Logistic Regression"
   ]
  },
  {
   "cell_type": "code",
   "execution_count": 2,
   "metadata": {},
   "outputs": [],
   "source": [
    "import numpy as np \n",
    "np.set_printoptions(suppress=True)\n",
    "import matplotlib.pyplot as plt\n",
    "import seaborn as sns\n",
    "from sklearn import datasets"
   ]
  },
  {
   "cell_type": "markdown",
   "metadata": {},
   "source": [
    "In this section we will construct binary and multiclass logistic regression models. We will try our binary model on the {doc}`breast cancer </content/appendix/data>` dataset and the multiclass model on the {doc}`wine </content/appendix/data>` dataset."
   ]
  },
  {
   "cell_type": "markdown",
   "metadata": {},
   "source": [
    "## Binary Logistic Regression"
   ]
  },
  {
   "cell_type": "code",
   "execution_count": 3,
   "metadata": {},
   "outputs": [],
   "source": [
    "# import data\n",
    "cancer = datasets.load_breast_cancer()\n",
    "X = cancer['data']\n",
    "y = cancer['target']"
   ]
  },
  {
   "cell_type": "markdown",
   "metadata": {},
   "source": [
    "Let's first define some helper functions: the logistic function and a standardization function, equivalent to `scikit-learn`'s `StandardScaler`"
   ]
  },
  {
   "cell_type": "code",
   "execution_count": 4,
   "metadata": {},
   "outputs": [],
   "source": [
    "def logistic(z):\n",
    "    return (1 + np.exp(-z))**(-1)\n",
    "\n",
    "def standard_scaler(X):\n",
    "    mean = X.mean(0)\n",
    "    sd = X.std(0)\n",
    "    return (X - mean)/sd "
   ]
  },
  {
   "cell_type": "markdown",
   "metadata": {},
   "source": [
    "The binary logistic regression class is defined below. First, it (optionally) standardizes and adds an intercept term. Then it estimates $\\boldsymbol{\\beta}$ with gradient descent, using the gradient of the negative log-likelihood derived in the {doc}`concept section </content/c3/s1/logistic_regression>`,\n",
    "\n",
    "$$\n",
    "\\frac{\\partial \\mathcal{L}(\\boldsymbol{\\beta})}{\\partial \\boldsymbol{\\beta}} = \\frac{\\partial - \\log L (\\boldsymbol{\\beta})}{\\partial \\boldsymbol{\\beta}} = -\\mathbf{X}^\\top (\\mathbf{y} - \\mathbf{p}).\n",
    "$$"
   ]
  },
  {
   "cell_type": "code",
   "execution_count": 5,
   "metadata": {},
   "outputs": [],
   "source": [
    "class BinaryLogisticRegression:\n",
    "    \n",
    "    def fit(self, X, y, n_iter, lr, standardize = True, has_intercept = False):\n",
    "        \n",
    "        ### Record Info ###\n",
    "        if standardize:\n",
    "            X = standard_scaler(X) \n",
    "        if not has_intercept:\n",
    "            ones = np.ones(X.shape[0]).reshape(-1, 1)\n",
    "            X = np.concatenate((ones, X), axis = 1)\n",
    "        self.X = X\n",
    "        self.N, self.D = X.shape\n",
    "        self.y = y\n",
    "        self.n_iter = n_iter\n",
    "        self.lr = lr\n",
    "\n",
    "        ### Calculate Beta ###\n",
    "        beta = np.random.randn(self.D) \n",
    "        for i in range(n_iter):\n",
    "            p = logistic(np.dot(self.X, beta)) # vector of probabilities \n",
    "            gradient = -np.dot(self.X.T, (self.y-p)) # gradient\n",
    "            beta -= self.lr*gradient \n",
    "            \n",
    "        ### Return Values ###\n",
    "        self.beta = beta\n",
    "        self.p = logistic(np.dot(self.X, self.beta)) \n",
    "        self.yhat = self.p.round()\n",
    "    "
   ]
  },
  {
   "cell_type": "markdown",
   "metadata": {},
   "source": [
    "The following instantiates and fits our logistic regression model, then assesses the in-sample accuracy. Note here that we predict observations to be from class 1 if we estimate $P(Y_n = 1)$ to be above 0.5, though this is not required. "
   ]
  },
  {
   "cell_type": "code",
   "execution_count": 6,
   "metadata": {},
   "outputs": [
    {
     "name": "stdout",
     "output_type": "stream",
     "text": [
      "In-sample accuracy: 0.9894551845342706\n"
     ]
    }
   ],
   "source": [
    "binary_model = BinaryLogisticRegression()\n",
    "binary_model.fit(X, y, n_iter = 10**4, lr = 0.0001)\n",
    "print('In-sample accuracy: '  + str(np.mean(binary_model.yhat == binary_model.y)))"
   ]
  },
  {
   "cell_type": "markdown",
   "metadata": {},
   "source": [
    "Finally, the graph below shows a distribution of the *estimated* $P(Y_n = 1)$ based on each observation's *true* class. This demonstrates that our model is quite confident of its predictions."
   ]
  },
  {
   "cell_type": "code",
   "execution_count": 7,
   "metadata": {},
   "outputs": [
    {
     "data": {
      "image/png": "[encoded data removed]",
      "text/plain": [
       "<Figure size 432x288 with 1 Axes>"
      ]
     },
     "metadata": {
      "needs_background": "light"
     },
     "output_type": "display_data"
    }
   ],
   "source": [
    "fig, ax = plt.subplots()\n",
    "sns.distplot(binary_model.p[binary_model.yhat == 0], kde = False, bins = 8, label = 'Class 0', color = 'cornflowerblue')\n",
    "sns.distplot(binary_model.p[binary_model.yhat == 1], kde = False, bins = 8, label = 'Class 1', color = 'darkblue')\n",
    "ax.legend(loc = 9, bbox_to_anchor = (0,0,1.59,.9))\n",
    "ax.set_xlabel(r'Estimated $P(Y_n = 1)$', size = 14)\n",
    "ax.set_title(r'Estimated $P(Y_n = 1)$ by True Class', size = 16)\n",
    "sns.despine()"
   ]
  },
  {
   "cell_type": "markdown",
   "metadata": {},
   "source": [
    "## Multiclass Logistic Regression"
   ]
  },
  {
   "cell_type": "code",
   "execution_count": 8,
   "metadata": {},
   "outputs": [],
   "source": [
    "# import data\n",
    "wine = datasets.load_wine()\n",
    "X = wine['data']\n",
    "y = wine['target']"
   ]
  },
  {
   "cell_type": "markdown",
   "metadata": {},
   "source": [
    "Before fitting our multiclass logistic regression model, let's again define some helper functions. The first (which we don't actually use) shows a simple implementation of the softmax function. The second applies the softmax function to each row of a matrix. An example of this is shown for the matrix \n",
    "\n",
    "$$\n",
    "\\mathbf{Z} = \\begin{bmatrix} 1 & 1 \\\\ 0 & 1 \\end{bmatrix}.\n",
    "$$\n",
    "\n",
    "The third function returns the $I$ matrix discussed in the concept section, whose $(n, k)^\\text{th}$ element is a 1 if the $n^\\text{th}$ observation belongs to the $k^\\text{th}$ class and a 0 otherwise. An example is shown for \n",
    "\n",
    "$$\n",
    "\\mathbf{y} = \\begin{bmatrix} 0 & 0 & 1 & 1 & 2 \\end{bmatrix}^\\top.\n",
    "$$\n"
   ]
  },
  {
   "cell_type": "code",
   "execution_count": 9,
   "metadata": {},
   "outputs": [
    {
     "name": "stdout",
     "output_type": "stream",
     "text": [
      "Softmax for Z:\n",
      " [[0.5  0.5 ]\n",
      " [0.27 0.73]]\n",
      "I matrix of [0,0,1,1,2]:\n",
      " [[1 0 0]\n",
      " [1 0 0]\n",
      " [0 1 0]\n",
      " [0 1 0]\n",
      " [0 0 1]]\n",
      "\n"
     ]
    }
   ],
   "source": [
    "def softmax(z):\n",
    "    return np.exp(z)/(np.exp(z).sum())\n",
    "\n",
    "def softmax_byrow(Z):\n",
    "    return (np.exp(Z)/(np.exp(Z).sum(1)[:,None]))\n",
    "\n",
    "def make_I_matrix(y):\n",
    "    I = np.zeros(shape = (len(y), len(np.unique(y))), dtype = int)\n",
    "    for j, target in enumerate(np.unique(y)):\n",
    "        I[:,j] = (y == target)\n",
    "    return I\n",
    "\n",
    "\n",
    "Z_test = np.array([[1, 1],\n",
    "              [0,1]])\n",
    "print('Softmax for Z:\\n', softmax_byrow(Z_test).round(2))\n",
    "\n",
    "y_test = np.array([0,0,1,1,2])\n",
    "print('I matrix of [0,0,1,1,2]:\\n', make_I_matrix(y_test), end = '\\n\\n')\n"
   ]
  },
  {
   "cell_type": "markdown",
   "metadata": {},
   "source": [
    "The multiclass logistic regression model is constructed below. After standardizing and adding an intercept, we estimate $\\hat{\\mathbf{B}}$ through gradient descent. Again, we use the gradient discussed in the {doc}`concept section </content/c3/s1/logistic_regression>`,\n",
    "\n",
    "$$\n",
    "\\frac{\\partial \\mathcal{L}(\\mathbf{B})}{\\partial \\mathbf{B}} = \\frac{\\partial -\\log L (\\mathbf{B})}{\\partial \\mathbf{B}} = \\mathbf{X}^\\top (\\mathbf{I} - \\mathbf{P}).\n",
    "$$"
   ]
  },
  {
   "cell_type": "code",
   "execution_count": 10,
   "metadata": {},
   "outputs": [],
   "source": [
    "class MulticlassLogisticRegression:\n",
    "    \n",
    "    def fit(self, X, y, n_iter, lr, standardize = True, has_intercept = False):\n",
    "        \n",
    "        ### Record Info ###\n",
    "        if standardize:\n",
    "            X = standard_scaler(X) \n",
    "        if not has_intercept:\n",
    "            ones = np.ones(X.shape[0]).reshape(-1, 1)\n",
    "            X = np.concatenate((ones, X), axis = 1)\n",
    "        self.X = X\n",
    "        self.N, self.D = X.shape\n",
    "        self.y = y\n",
    "        self.K = len(np.unique(y))\n",
    "        self.n_iter = n_iter\n",
    "        self.lr = lr\n",
    "        \n",
    "        ### Fit B ###\n",
    "        B = np.random.randn(self.D*self.K).reshape((self.D, self.K))\n",
    "        self.I = make_I_matrix(self.y)\n",
    "        for i in range(n_iter):\n",
    "            Z = np.dot(self.X, B)\n",
    "            P = softmax_byrow(Z)\n",
    "            gradient = np.dot(self.X.T, self.I - P)\n",
    "            B += lr*gradient\n",
    "        \n",
    "        ### Return Values ###\n",
    "        self.B = B\n",
    "        self.Z = np.dot(self.X, B)\n",
    "        self.P = softmax_byrow(self.Z)\n",
    "        self.yhat = self.P.argmax(1)\n"
   ]
  },
  {
   "cell_type": "markdown",
   "metadata": {},
   "source": [
    "The multiclass model is instantiated and fit below. The `yhat` value returns the class with the greatest estimated probability. We are again able to classify all observations correctly.  "
   ]
  },
  {
   "cell_type": "code",
   "execution_count": 11,
   "metadata": {},
   "outputs": [
    {
     "name": "stdout",
     "output_type": "stream",
     "text": [
      "In-sample accuracy: 1.0\n"
     ]
    }
   ],
   "source": [
    "multiclass_model = MulticlassLogisticRegression()\n",
    "multiclass_model.fit(X, y, 10**4, 0.0001)\n",
    "print('In-sample accuracy: '  + str(np.mean(multiclass_model.yhat == y)))"
   ]
  },
  {
   "cell_type": "markdown",
   "metadata": {},
   "source": [
    "The plots show the distribution of our estimates of the probability that each observation belongs to the class it actually belongs to. E.g. for observations of class 1, we plot $P(y_n = 1)$. The fact that most counts are close to 1 shows that again our model is confident in its predictions."
   ]
  },
  {
   "cell_type": "code",
   "execution_count": 12,
   "metadata": {},
   "outputs": [
    {
     "data": {
      "image/png": "[encoded data removed]",
      "text/plain": [
       "<Figure size 1224x360 with 3 Axes>"
      ]
     },
     "metadata": {
      "needs_background": "light"
     },
     "output_type": "display_data"
    }
   ],
   "source": [
    "fig, ax = plt.subplots(1, 3, figsize = (17, 5))\n",
    "for i, y in enumerate(np.unique(y)):\n",
    "    sns.distplot(multiclass_model.P[multiclass_model.y == y, i],\n",
    "                 hist_kws=dict(edgecolor=\"darkblue\"), \n",
    "                 color = 'cornflowerblue',\n",
    "                 bins = 15, \n",
    "                 kde = False,\n",
    "                 ax = ax[i]);\n",
    "    ax[i].set_xlabel(xlabel = fr'$P(y = {y})$', size = 14)\n",
    "    ax[i].set_title('Histogram for Observations in Class '+ str(y), size = 16)\n",
    "sns.despine()"
   ]
  }
 ],
 "metadata": {
  "kernelspec": {
   "display_name": "Python 3",
   "language": "python",
   "name": "python3"
  },
  "language_info": {
   "codemirror_mode": {
    "name": "ipython",
    "version": 3
   },
   "file_extension": ".py",
   "mimetype": "text/x-python",
   "name": "python",
   "nbconvert_exporter": "python",
   "pygments_lexer": "ipython3",
   "version": "3.7.6"
  }
 },
 "nbformat": 4,
 "nbformat_minor": 4
}
