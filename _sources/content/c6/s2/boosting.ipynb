{
 "cells": [
  {
   "cell_type": "markdown",
   "metadata": {},
   "source": [
    "# Boosting"
   ]
  },
  {
   "cell_type": "markdown",
   "metadata": {},
   "source": [
    "In this section, we will construct a boosting classifier with the `AdaBoost` algorithm and a boosting regressor with the `AdaBoost.R2` algorithm. These algorithms can use a variety of weak learners but we will use decision tree classifiers and regressors, constructed in {doc}`Chapter 5 </content/c5/concept>`."
   ]
  },
  {
   "cell_type": "code",
   "execution_count": 1,
   "metadata": {
    "tags": [
     "remove-output"
    ]
   },
   "outputs": [
    {
     "name": "stdout",
     "output_type": "stream",
     "text": [
      "importing Jupyter notebook from classification_tree.ipynb\n"
     ]
    }
   ],
   "source": [
    "## Import decision trees\n",
    "import import_ipynb\n",
    "import classification_tree as ct;\n",
    "\n",
    "## Import numpy and visualization packages\n",
    "import numpy as np \n",
    "import matplotlib.pyplot as plt\n",
    "import seaborn as sns\n",
    "from sklearn import datasets"
   ]
  },
  {
   "cell_type": "markdown",
   "metadata": {},
   "source": [
    "## 1. Classification with AdaBoost"
   ]
  },
  {
   "cell_type": "markdown",
   "metadata": {},
   "source": [
    "The following is a construction of the binary AdaBoost classifier introduced in the {doc}`concept section </content/c6/s1/boosting>`. Let's again use the {doc}`penguins </content/appendix/data>` dataset from `seaborn`, but rather than predicting the penguin's species (a multiclass problem), we'll predict whether the species is *Adelie* (a binary problem). The data is loaded and split into train vs. test with the hidden code cell below. "
   ]
  },
  {
   "cell_type": "code",
   "execution_count": 2,
   "metadata": {
    "tags": [
     "hide-input"
    ]
   },
   "outputs": [],
   "source": [
    "## Load data\n",
    "penguins = sns.load_dataset('penguins')\n",
    "penguins.dropna(inplace = True)\n",
    "X = np.array(penguins.drop(columns = ['species', 'island']))\n",
    "y = 1*np.array(penguins['species'] == 'Adelie')\n",
    "y[y == 0] = -1\n",
    "\n",
    "## Train-test split\n",
    "np.random.seed(123)\n",
    "test_frac = 0.25\n",
    "test_size = int(len(y)*test_frac)\n",
    "test_idxs = np.random.choice(np.arange(len(y)), test_size, replace = False)\n",
    "X_train = np.delete(X, test_idxs, 0)\n",
    "y_train = np.delete(y, test_idxs, 0)\n",
    "X_test = X[test_idxs]\n",
    "y_test = y[test_idxs]\n"
   ]
  },
  {
   "cell_type": "markdown",
   "metadata": {},
   "source": [
    "Recall that AdaBoost fits *weighted* weak learners. Let's start by defining the weighted loss functions introduced in the {doc}`concept section </content/c6/s1/boosting>`. The helper function `get_weighted_pmk()` calculates \n",
    "\n",
    "$$\n",
    "\\hat{p}_{mk} = \\frac{\\sumN w_n I(\\bx_n \\in \\mathcal{N}_m)}{\\sumN w_n}\n",
    "$$\n",
    "\n",
    "for each class $k$. The `gini_index()` and `cross_entropy()` functions then call this function and return the appropriate loss. "
   ]
  },
  {
   "cell_type": "code",
   "execution_count": 3,
   "metadata": {},
   "outputs": [],
   "source": [
    "## Loss Functions\n",
    "def get_weighted_pmk(y, weights):\n",
    "    ks = np.unique(y)\n",
    "    weighted_pmk = [sum(weights[y == k]) for k in ks]      \n",
    "    return(np.array(weighted_pmk)/sum(weights))\n",
    "\n",
    "def gini_index(y, weights):\n",
    "    weighted_pmk = get_weighted_pmk(y, weights)\n",
    "    return np.sum( weighted_pmk*(1-weighted_pmk) )\n",
    "\n",
    "def cross_entropy(y, weights):\n",
    "    weighted_pmk = get_weighted_pmk(y, weights)    \n",
    "    return -np.sum(weighted_pmk*np.log2(weighted_pmk))\n",
    "\n",
    "def split_loss(child1, child2, weights1, weights2, loss = cross_entropy):\n",
    "    return (len(child1)*loss(child1, weights1) + len(child2)*loss(child2, weights2))/(len(child1) + len(child2))\n"
   ]
  },
  {
   "cell_type": "markdown",
   "metadata": {},
   "source": [
    "In order to incorporate observation weights, we have to make slight adjustments to the `DecisionTreeClassifier` class. In the class we {doc}`previously constructed </content/c5/s2/classification_tree>`, the data from parent nodes was split and funneled anonymously to one of two child nodes. This alone will not allow us to incorporate weights. Instead, we need to also track the ID of each observation so we can track its weight. This is done with the `DecisionTreeClassifier` class defined in the hidden cell below, which is mostly a reconstruction of the class defined in Chapter 5. "
   ]
  },
  {
   "cell_type": "code",
   "execution_count": 4,
   "metadata": {
    "tags": [
     "hide-input"
    ]
   },
   "outputs": [],
   "source": [
    "## Helper Classes\n",
    "class Node:\n",
    "    \n",
    "    def __init__(self, Xsub, ysub, observations, ID, depth = 0, parent_ID = None, leaf = True):\n",
    "        self.Xsub = Xsub\n",
    "        self.ysub = ysub\n",
    "        self.observations = observations\n",
    "        self.ID = ID\n",
    "        self.size = len(ysub)\n",
    "        self.depth = depth\n",
    "        self.parent_ID = parent_ID\n",
    "        self.leaf = leaf\n",
    "        \n",
    "\n",
    "class Splitter:\n",
    "    \n",
    "    def __init__(self):\n",
    "        self.loss = np.inf\n",
    "        self.no_split = True\n",
    "        \n",
    "    def _replace_split(self, loss, d, dtype = 'quant', t = None, L_values = None):\n",
    "        self.loss = loss\n",
    "        self.d = d\n",
    "        self.dtype = dtype\n",
    "        self.t = t\n",
    "        self.L_values = L_values  \n",
    "        self.no_split = False\n",
    "\n",
    "        \n",
    "## Main Class\n",
    "class DecisionTreeClassifier:\n",
    "    \n",
    "    #############################\n",
    "    ######## 1. TRAINING ########\n",
    "    #############################\n",
    "    \n",
    "    ######### FIT ##########\n",
    "    def fit(self, X, y, weights, loss_func = cross_entropy, max_depth = 100, min_size = 2, C = None):\n",
    "        \n",
    "        ## Add data\n",
    "        self.X = X\n",
    "        self.y = y\n",
    "        self.N, self.D = self.X.shape\n",
    "        dtypes = [np.array(list(self.X[:,d])).dtype for d in range(self.D)]\n",
    "        self.dtypes = ['quant' if (dtype == float or dtype == int) else 'cat' for dtype in dtypes]\n",
    "        self.weights = weights\n",
    "        \n",
    "        ## Add model parameters\n",
    "        self.loss_func = loss_func\n",
    "        self.max_depth = max_depth\n",
    "        self.min_size = min_size\n",
    "        self.C = C\n",
    "        \n",
    "        ## Initialize nodes\n",
    "        self.nodes_dict = {}\n",
    "        self.current_ID = 0\n",
    "        initial_node = Node(Xsub = X, ysub = y, observations = np.arange(self.N), ID = self.current_ID, parent_ID = None)\n",
    "        self.nodes_dict[self.current_ID] = initial_node\n",
    "        self.current_ID += 1\n",
    "        \n",
    "        # Build\n",
    "        self._build()\n",
    "\n",
    "    ###### BUILD TREE ######\n",
    "    def _build(self):\n",
    "        \n",
    "        eligible_buds = self.nodes_dict \n",
    "        for layer in range(self.max_depth):\n",
    "            \n",
    "            ## Find eligible nodes for layer iteration\n",
    "            eligible_buds = {ID:node for (ID, node) in self.nodes_dict.items() if \n",
    "                                (node.leaf == True) &\n",
    "                                (node.size >= self.min_size) & \n",
    "                                (~ct.all_rows_equal(node.Xsub)) &\n",
    "                                (len(np.unique(node.ysub)) > 1)}\n",
    "            if len(eligible_buds) == 0:\n",
    "                break\n",
    "            \n",
    "            ## split each eligible parent\n",
    "            for ID, bud in eligible_buds.items():\n",
    "                                \n",
    "                ## Find split\n",
    "                self._find_split(bud)\n",
    "                \n",
    "                ## Make split\n",
    "                if not self.splitter.no_split:\n",
    "                    self._make_split()\n",
    "                \n",
    "    ###### FIND SPLIT ######\n",
    "    def _find_split(self, bud):\n",
    "        \n",
    "        ## Instantiate splitter\n",
    "        splitter = Splitter()\n",
    "        splitter.bud_ID = bud.ID\n",
    "        \n",
    "        ## For each (eligible) predictor...\n",
    "        if self.C is None:\n",
    "            eligible_predictors = np.arange(self.D)\n",
    "        else:\n",
    "            eligible_predictors = np.random.choice(np.arange(self.D), self.C, replace = False)\n",
    "        for d in sorted(eligible_predictors):\n",
    "            Xsub_d = bud.Xsub[:,d]\n",
    "            dtype = self.dtypes[d]\n",
    "            if len(np.unique(Xsub_d)) == 1:\n",
    "                continue\n",
    "\n",
    "            ## For each value...\n",
    "            if dtype == 'quant':\n",
    "                for t in np.unique(Xsub_d)[:-1]:\n",
    "                    L_condition = Xsub_d <= t\n",
    "                    ysub_L = bud.ysub[L_condition]\n",
    "                    ysub_R = bud.ysub[~L_condition]\n",
    "                    weights_L = self.weights[bud.observations][L_condition]\n",
    "                    weights_R = self.weights[bud.observations][~L_condition]\n",
    "                    loss = split_loss(ysub_L, ysub_R,\n",
    "                                      weights_L, weights_R,\n",
    "                                      loss = self.loss_func)\n",
    "                    if loss < splitter.loss:\n",
    "                        splitter._replace_split(loss, d, 'quant', t = t)\n",
    "            else:\n",
    "                for L_values in ct.possible_splits(np.unique(Xsub_d)):\n",
    "                    L_condition = np.isin(Xsub_d, L_values)\n",
    "                    ysub_L = bud.ysub[L_condition]\n",
    "                    ysub_R = bud.ysub[~L_condition]\n",
    "                    weights_L = self.weights[bud.observations][L_condition]\n",
    "                    weights_R = self.weights[bud.observations][~L_condition]\n",
    "                    loss = split_loss(ysub_L, ysub_R,\n",
    "                                      weights_L, weights_R,\n",
    "                                      loss = self.loss_func)\n",
    "                    if loss < splitter.loss: \n",
    "                        splitter._replace_split(loss, d, 'cat', L_values = L_values)\n",
    "                        \n",
    "        ## Save splitter\n",
    "        self.splitter = splitter\n",
    "    \n",
    "    ###### MAKE SPLIT ######\n",
    "    def _make_split(self):\n",
    "        \n",
    "        ## Update parent node\n",
    "        parent_node = self.nodes_dict[self.splitter.bud_ID]\n",
    "        parent_node.leaf = False\n",
    "        parent_node.child_L = self.current_ID\n",
    "        parent_node.child_R = self.current_ID + 1\n",
    "        parent_node.d = self.splitter.d\n",
    "        parent_node.dtype = self.splitter.dtype\n",
    "        parent_node.t = self.splitter.t        \n",
    "        parent_node.L_values = self.splitter.L_values\n",
    "        \n",
    "        ## Get X and y data for children\n",
    "        if parent_node.dtype == 'quant':\n",
    "            L_condition = parent_node.Xsub[:,parent_node.d] <= parent_node.t\n",
    "        else:\n",
    "            L_condition = np.isin(parent_node.Xsub[:,parent_node.d], parent_node.L_values)\n",
    "        Xchild_L = parent_node.Xsub[L_condition]\n",
    "        ychild_L = parent_node.ysub[L_condition]\n",
    "        child_observations_L = parent_node.observations[L_condition]\n",
    "        Xchild_R = parent_node.Xsub[~L_condition]\n",
    "        ychild_R = parent_node.ysub[~L_condition]\n",
    "        child_observations_R = parent_node.observations[~L_condition]\n",
    "        \n",
    "        ## Create child nodes\n",
    "        child_node_L = Node(Xchild_L, ychild_L, child_observations_L,\n",
    "                            ID = self.current_ID, depth = parent_node.depth + 1,\n",
    "                            parent_ID = parent_node.ID)\n",
    "        child_node_R = Node(Xchild_R, ychild_R, child_observations_R,\n",
    "                            ID = self.current_ID + 1, depth = parent_node.depth + 1,\n",
    "                            parent_ID = parent_node.ID)\n",
    "        self.nodes_dict[self.current_ID] = child_node_L\n",
    "        self.nodes_dict[self.current_ID + 1] = child_node_R\n",
    "        self.current_ID += 2\n",
    "                \n",
    "            \n",
    "    #############################\n",
    "    ####### 2. PREDICTING #######\n",
    "    #############################\n",
    "    \n",
    "    ###### LEAF MODES ######\n",
    "    def _get_leaf_modes(self):\n",
    "        self.leaf_modes = {}\n",
    "        for node_ID, node in self.nodes_dict.items():\n",
    "            if node.leaf:\n",
    "                values, counts = np.unique(node.ysub, return_counts=True)\n",
    "                self.leaf_modes[node_ID] = values[np.argmax(counts)]\n",
    "    \n",
    "    ####### PREDICT ########\n",
    "    def predict(self, X_test):\n",
    "        \n",
    "        # Calculate leaf modes\n",
    "        self._get_leaf_modes()\n",
    "        \n",
    "        yhat = []\n",
    "        for x in X_test:\n",
    "            node = self.nodes_dict[0] \n",
    "            while not node.leaf:\n",
    "                if node.dtype == 'quant':\n",
    "                    if x[node.d] <= node.t:\n",
    "                        node = self.nodes_dict[node.child_L]\n",
    "                    else:\n",
    "                        node = self.nodes_dict[node.child_R]\n",
    "                else:\n",
    "                    if x[node.d] in node.L_values:\n",
    "                        node = self.nodes_dict[node.child_L]\n",
    "                    else:\n",
    "                        node = self.nodes_dict[node.child_R]\n",
    "            yhat.append(self.leaf_modes[node.ID])\n",
    "        return np.array(yhat)\n",
    "            \n"
   ]
  },
  {
   "cell_type": "markdown",
   "metadata": {},
   "source": [
    "With the weighted decision tree constructed, we are ready to build our `AdaBoost` class. The class closely follows the algorithm introduced in the content section, which is copied below for convenience.\n",
    "_____\n",
    "**Discrete AdaBoost Algorithm**\n",
    "\n",
    "Define the target variable to be $y_n \\in \\{-1, +1 \\}$.\n",
    "\n",
    "1. Initialize the weights with $w^1_n = \\frac{1}{N}$ for $n = 1, 2, \\dots, N$.\n",
    "\n",
    "2. For $t = 1, \\dots, T$,\n",
    "\n",
    "   - Build weak learner $t$ using weights $\\mathbf{w}^t$.\n",
    "\n",
    "   - Calculate fitted values $f^t(\\bx_n) \\in \\{-1, +1\\}$ for $n = 1, 2, \\dots, N$. Let $I^t_n$ equal 1 If $f^t(\\bx_n) \\neq y_n$ and 0 otherwise. That is, $I^t_n$ indicates whether learner $t$ misclassifies observation $n$.\n",
    "\n",
    "   - Calculate the weighted error for learner $t$:\n",
    "    \n",
    "     $$\n",
    "     \\epsilon^t = \\frac{\\sumN w^t_n I^t_n}{\\sumN w^t_n}.\n",
    "     $$\n",
    "   \n",
    "   - Calculate the accuracy measure for learner $t$:\n",
    "\n",
    "     $$\n",
    "     \\alpha^t = \\log\\left(\\frac{1-\\epsilon^t}{\\epsilon^t}\\right).\n",
    "     $$\n",
    "    \n",
    "   - Update the weighting with \n",
    "\n",
    "     $$\n",
    "     w^{t + 1}_n = w^t_n\\exp(\\alpha^tI^t_n),\n",
    "     $$\n",
    "    \n",
    "     for $n = 1, 2, \\dots, N$.\n",
    "\n",
    "3. Calculate the overall fitted values with $\\hat{y}_n = \\text{sign} \\left( \\sum_{t = 1}^T \\alpha^t f^t(\\bx_n)\\right)$.\n",
    "_____"
   ]
  },
  {
   "cell_type": "code",
   "execution_count": 5,
   "metadata": {},
   "outputs": [],
   "source": [
    "class AdaBoost:\n",
    "    \n",
    "    def fit(self, X_train, y_train, T, stub_depth = 1):\n",
    "        self.y_train = y_train\n",
    "        self.X_train = X_train\n",
    "        self.N, self.D = X_train.shape\n",
    "        self.T = T\n",
    "        self.stub_depth = stub_depth\n",
    "        \n",
    "        ## Instantiate stuff\n",
    "        self.weights = np.repeat(1/self.N, self.N)\n",
    "        self.trees = []\n",
    "        self.alphas = []\n",
    "        self.yhats = np.empty((self.N, self.T))\n",
    "        \n",
    "        for t in range(self.T):\n",
    "            \n",
    "            ## Calculate stuff\n",
    "            self.T_t = DecisionTreeClassifier()\n",
    "            self.T_t.fit(self.X_train, self.y_train, self.weights, max_depth = self.stub_depth)\n",
    "            self.yhat_t = self.T_t.predict(self.X_train)\n",
    "            self.epsilon_t = sum(self.weights*(self.yhat_t != self.y_train))/sum(self.weights)\n",
    "            self.alpha_t = np.log( (1-self.epsilon_t)/self.epsilon_t )\n",
    "            self.weights = np.array([w*(1-self.epsilon_t)/self.epsilon_t if self.yhat_t[i] != self.y_train[i]\n",
    "                                    else w for i, w in enumerate(self.weights)])\n",
    "            ## Append stuff\n",
    "            self.trees.append(self.T_t)\n",
    "            self.alphas.append(self.alpha_t)\n",
    "            self.yhats[:,t] = self.yhat_t \n",
    "            \n",
    "        self.yhat = np.sign(np.dot(self.yhats, self.alphas))\n",
    "        \n",
    "    def predict(self, X_test):\n",
    "        yhats = np.zeros(len(X_test))\n",
    "        for t, tree in enumerate(self.trees):\n",
    "            yhats_tree = tree.predict(X_test)\n",
    "            yhats += yhats_tree*self.alphas[t]\n",
    "        return np.sign(yhats)\n",
    "        \n",
    "        \n",
    "        "
   ]
  },
  {
   "cell_type": "markdown",
   "metadata": {},
   "source": [
    "The `AdaBoost` model is finally fit below. To train the model, we supply the training data as well as `T`—the number of weak learners—and `stub_depth`—the depth for each tree (our weak learner). "
   ]
  },
  {
   "cell_type": "code",
   "execution_count": 6,
   "metadata": {},
   "outputs": [
    {
     "data": {
      "text/plain": [
       "0.9759036144578314"
      ]
     },
     "execution_count": 6,
     "metadata": {},
     "output_type": "execute_result"
    }
   ],
   "source": [
    "booster = AdaBoost()\n",
    "booster.fit(X_train, y_train, T = 30, stub_depth = 3)\n",
    "yhat = booster.predict(X_test)\n",
    "np.mean(yhat == y_test)"
   ]
  },
  {
   "cell_type": "markdown",
   "metadata": {},
   "source": [
    "## 2. Regression with AdaBoost.R2"
   ]
  },
  {
   "cell_type": "markdown",
   "metadata": {},
   "source": [
    "Next, let's implement *AdaBoost.R2*, a common boosting algorithm for regression tasks. We'll again use the {doc}`tips </content/appendix/data>` dataset from `seaborn`, loaded in the hidden code cell below."
   ]
  },
  {
   "cell_type": "code",
   "execution_count": 7,
   "metadata": {
    "tags": [
     "hide-input"
    ]
   },
   "outputs": [],
   "source": [
    "## Import packages\n",
    "import numpy as np \n",
    "import matplotlib.pyplot as plt\n",
    "import seaborn as sns\n",
    "from sklearn import datasets\n",
    "\n",
    "## Load data\n",
    "tips = sns.load_dataset('tips')\n",
    "X = np.array(tips.drop(columns = 'tip'))\n",
    "y = np.array(tips['tip'])\n",
    "\n",
    "## Train-test split\n",
    "np.random.seed(1)\n",
    "test_frac = 0.25\n",
    "test_size = int(len(y)*test_frac)\n",
    "test_idxs = np.random.choice(np.arange(len(y)), test_size, replace = False)\n",
    "X_train = np.delete(X, test_idxs, 0)\n",
    "y_train = np.delete(y, test_idxs, 0)\n",
    "X_test = X[test_idxs]\n",
    "y_test = y[test_idxs]"
   ]
  },
  {
   "cell_type": "markdown",
   "metadata": {},
   "source": [
    "Since our boosting class will use regression trees for its weak learners, let's also import the regression tree we constructed in {doc}`Chapter 5 </content/c5/s2/regression_tree>`."
   ]
  },
  {
   "cell_type": "code",
   "execution_count": 8,
   "metadata": {
    "tags": [
     "remove-output"
    ]
   },
   "outputs": [
    {
     "name": "stdout",
     "output_type": "stream",
     "text": [
      "importing Jupyter notebook from regression_tree.ipynb\n"
     ]
    }
   ],
   "source": [
    "## Import decision trees\n",
    "import import_ipynb\n",
    "import regression_tree as rt;\n"
   ]
  },
  {
   "cell_type": "markdown",
   "metadata": {},
   "source": [
    "Recall that the final fitted values in *AdaBoost.R2* are based on a weighted median. Let's first make a helper function to return the weighted median.  "
   ]
  },
  {
   "cell_type": "code",
   "execution_count": 9,
   "metadata": {},
   "outputs": [],
   "source": [
    "def weighted_median(values, weights):\n",
    "    \n",
    "    sorted_indices = values.argsort()\n",
    "    values = values[sorted_indices]\n",
    "    weights = weights[sorted_indices]\n",
    "    weights_cumulative_sum = weights.cumsum()\n",
    "    median_weight = np.argmax(weights_cumulative_sum >= sum(weights)/2)\n",
    "    return values[median_weight]"
   ]
  },
  {
   "cell_type": "markdown",
   "metadata": {},
   "source": [
    "We can then fit the `AdaBoostR2` class. This again follows the algorithm closely, which is again copied below for convenience.\n",
    "____\n",
    "**AdaBoost.R2 Algorithm**\n",
    "\n",
    "1. Initialize the weights with $w^1_n = \\frac{1}{N}$ for $n = 1, 2, \\dots, N$.\n",
    "\n",
    "2. For $t = 1, 2, \\dots, T$ or while $\\bar{L}^t$, as defined below, is less than or equal to 0.5,\n",
    "\n",
    "   - Draw a sample of size $N$ from the training data with replacement and with probability $w^t_n$ for $n = 1, 2, \\dots, N$. \n",
    "   - Fit weak learner $t$ to the resampled data and calculate the fitted values on the original dataset. Denote these fitted values with $f^t(\\bx_{n})$ for $n = 1, 2, \\dots, N$.\n",
    "   - Calculate the observation error $L^t_{n}$ for $n = 1, 2, \\dots, N$:\n",
    "     \n",
    "   $$\n",
    "   \\begin{aligned}\n",
    "   D^t &= \\underset{n}{\\text{max}} \\{ |y_{n} - f^t(\\bx_{n})|  \\} \\\\\n",
    "   L^t_{n} &= \\frac{|y_{n} - f^t(\\bx_{n})|}{D^t}\n",
    "   \\end{aligned}\n",
    "   $$\n",
    "\n",
    "   - Calculate the model error $\\bar{L}^t$:\n",
    "     \n",
    "     $$\n",
    "     \\bar{L}^t = \\sum_{n = 1}^N  L^t_n w^t_n\n",
    "     $$\n",
    "\n",
    "     If $\\bar{L}^t \\geq 0.5$, end iteration and set $T$ equal to $t - 1$.\n",
    "\n",
    "   - Let $\\beta^t = \\frac{\\bar{L}^t}{1- \\bar{L}^t}$. The lower $\\beta^t$, the greater our confidence in the model. \n",
    "\n",
    "   - Let $Z^t = \\sum_{n = 1}^N w^t_n (\\beta^t)^{1 - L_n}$ and update the model weights with \n",
    "     \n",
    "     $$\n",
    "     w^{t + 1}_n = \\frac{w^t_n (\\beta^t)^{1 - L_n}}{Z^t},\n",
    "     $$\n",
    "\n",
    "     which increases the weight for observations with a greater error $L^t_n$.\n",
    "\n",
    "3. Set the overall fitted value for observation $n$ equal to the weighted median of $f^t(\\bx_n)$ for $t = 1, 2, \\dots, T$ using weights $\\log(1/\\beta^t)$ for model $t$.\n",
    "______"
   ]
  },
  {
   "cell_type": "code",
   "execution_count": 10,
   "metadata": {},
   "outputs": [],
   "source": [
    "class AdaBoostR2:\n",
    "    \n",
    "    def fit(self, X_train, y_train, T = 100, stub_depth = 1, random_state = None):\n",
    "        \n",
    "        self.y_train = y_train\n",
    "        self.X_train = X_train\n",
    "        self.T = T\n",
    "        self.stub_depth = stub_depth\n",
    "        self.N, self.D = X_train.shape\n",
    "        self.weights = np.repeat(1/self.N, self.N)\n",
    "        np.random.seed(random_state)\n",
    "        \n",
    "        self.trees = []    \n",
    "        self.fitted_values = np.empty((self.N, self.T))\n",
    "        self.betas = []\n",
    "        for t in range(self.T):\n",
    "            \n",
    "            ## Draw sample, fit tree, get predictions\n",
    "            bootstrap_indices = np.random.choice(np.arange(self.N), size = self.N, replace = True, p = self.weights)\n",
    "            bootstrap_X = self.X_train[bootstrap_indices]\n",
    "            bootstrap_y = self.y_train[bootstrap_indices]\n",
    "            tree = rt.DecisionTreeRegressor()\n",
    "            tree.fit(bootstrap_X, bootstrap_y, max_depth = stub_depth)\n",
    "            self.trees.append(tree)\n",
    "            yhat = tree.predict(X_train)\n",
    "            self.fitted_values[:,t] = yhat\n",
    "            \n",
    "            ## Calculate observation errors\n",
    "            abs_errors_t = np.abs(self.y_train - yhat)\n",
    "            D_t = np.max(abs_errors_t)\n",
    "            L_ts = abs_errors_t/D_t\n",
    "            \n",
    "            ## Calculate model error (and possibly break)\n",
    "            Lbar_t = np.sum(self.weights*L_ts)\n",
    "            if Lbar_t >= 0.5:\n",
    "                self.T = t - 1\n",
    "                self.fitted_values = self.fitted_values[:,:t-1]\n",
    "                self.trees = self.trees[:t-1]\n",
    "                break\n",
    "            \n",
    "            ## Calculate and record beta \n",
    "            beta_t = Lbar_t/(1 - Lbar_t)\n",
    "            self.betas.append(beta_t)\n",
    "            \n",
    "            ## Reweight\n",
    "            Z_t = np.sum(self.weights*beta_t**(1-L_ts))\n",
    "            self.weights *= beta_t**(1-L_ts)/Z_t\n",
    "            \n",
    "        ## Get median \n",
    "        self.model_weights = np.log(1/np.array(self.betas))\n",
    "        self.y_train_hat = np.array([weighted_median(self.fitted_values[n], self.model_weights) for n in range(self.N)])\n",
    "        \n",
    "    def predict(self, X_test):\n",
    "        N_test = len(X_test)\n",
    "        fitted_values = np.empty((N_test, self.T))\n",
    "        for t, tree in enumerate(self.trees):\n",
    "            fitted_values[:,t] = tree.predict(X_test)\n",
    "        return np.array([weighted_median(fitted_values[n], self.model_weights) for n in range(N_test)]) \n",
    "        \n",
    "        "
   ]
  },
  {
   "cell_type": "markdown",
   "metadata": {},
   "source": [
    "Again, we fit our booster by providing training data in addition to `T`—the number of weak learners—and `stub_depth`—the depth for our regression tree weak learners."
   ]
  },
  {
   "cell_type": "code",
   "execution_count": 11,
   "metadata": {},
   "outputs": [
    {
     "data": {
      "image/png": "[encoded data removed]",
      "text/plain": [
       "<Figure size 504x360 with 1 Axes>"
      ]
     },
     "metadata": {
      "needs_background": "light"
     },
     "output_type": "display_data"
    }
   ],
   "source": [
    "booster = AdaBoostR2()\n",
    "booster.fit(X_train, y_train, T = 50, stub_depth = 4, random_state = 123)\n",
    "\n",
    "fig, ax = plt.subplots(figsize = (7,5))\n",
    "sns.scatterplot(y_test, booster.predict(X_test));\n",
    "ax.set(xlabel = r'$y$', ylabel = r'$\\hat{y}$', title = 'Fitted vs. Observed Values for AdaBoostR2')\n",
    "sns.despine()"
   ]
  }
 ],
 "metadata": {
  "celltoolbar": "Edit Metadata",
  "kernelspec": {
   "display_name": "Python 3",
   "language": "python",
   "name": "python3"
  },
  "language_info": {
   "codemirror_mode": {
    "name": "ipython",
    "version": 3
   },
   "file_extension": ".py",
   "mimetype": "text/x-python",
   "name": "python",
   "nbconvert_exporter": "python",
   "pygments_lexer": "ipython3",
   "version": "3.7.6"
  }
 },
 "nbformat": 4,
 "nbformat_minor": 4
}
