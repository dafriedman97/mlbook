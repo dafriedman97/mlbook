{
 "cells": [
  {
   "cell_type": "markdown",
   "metadata": {},
   "source": [
    "# Fisher's Linear Discriminant"
   ]
  },
  {
   "cell_type": "code",
   "execution_count": 2,
   "metadata": {},
   "outputs": [],
   "source": [
    "import numpy as np \n",
    "np.set_printoptions(suppress=True)\n",
    "import matplotlib.pyplot as plt\n",
    "import seaborn as sns\n",
    "from sklearn import datasets\n"
   ]
  },
  {
   "cell_type": "markdown",
   "metadata": {},
   "source": [
    "Since it is largely geometric, the Linear Discriminant won't look like other methods we've seen (no gradients!). First we take the class means and calculate $\\bSigma_w$ as described in the {doc}`concept section </content/c3/s2/fisher_discriminant>`. Estimating $\\bbetahat$ is then as simple as calculating $\\bSigma_w^{-1}(\\bmu_1 - \\bmu_0)$. Let's demonstrate the model using the {doc}`breast cancer </content/appendix/data>` dataset."
   ]
  },
  {
   "cell_type": "code",
   "execution_count": 3,
   "metadata": {},
   "outputs": [],
   "source": [
    "# import data\n",
    "cancer = datasets.load_breast_cancer()\n",
    "X = cancer['data']\n",
    "y = cancer['target']"
   ]
  },
  {
   "cell_type": "markdown",
   "metadata": {},
   "source": [
    "```{note}\n",
    "Note that the value we return for each observation, $f(\\bx_n)$, is not a fitted value. Instead, we look at the distribution of the $f(\\bx_n)$ by class and determine a classification rule based on this distribution. For instance, we might predict observation $n$ came from class 1 if $f(\\bx_n) \\geq c$ (for some constant c) and from class 0 otherwise. \n",
    "```"
   ]
  },
  {
   "cell_type": "code",
   "execution_count": 4,
   "metadata": {},
   "outputs": [],
   "source": [
    "class FisherLinearDiscriminant:\n",
    "    \n",
    "    def fit(self, X, y):\n",
    "        ## Save stuff\n",
    "        self.X = X\n",
    "        self.y = y\n",
    "        self.N, self.D = self.X.shape\n",
    "        \n",
    "        ## Calculate class means\n",
    "        X0 = X[y == 0]\n",
    "        X1 = X[y == 1]\n",
    "        mu0 = X0.mean(0)\n",
    "        mu1 = X1.mean(0)\n",
    "        \n",
    "        ## Sigma_w\n",
    "        Sigma_w = np.empty((self.D, self.D))\n",
    "        for x0 in X0:\n",
    "            x0_minus_mu0 = (x0 - mu0).reshape(-1, 1)\n",
    "            Sigma_w += np.dot(x0_minus_mu0, x0_minus_mu0.T)\n",
    "        for x1 in X1:\n",
    "            x1_minus_mu1 = (x1 - mu1).reshape(-1, 1)\n",
    "            Sigma_w += np.dot(x1_minus_mu1, x1_minus_mu1.T)            \n",
    "        Sigma_w_inverse = np.linalg.inv(Sigma_w)\n",
    "        \n",
    "        ## Beta\n",
    "        self.beta = np.dot(Sigma_w_inverse, mu1 - mu0)\n",
    "        self.f = np.dot(X, self.beta)"
   ]
  },
  {
   "cell_type": "markdown",
   "metadata": {},
   "source": [
    "We can now fit the model on the {doc}`breast cancer </content/appendix/data>` dataset, as below."
   ]
  },
  {
   "cell_type": "code",
   "execution_count": 5,
   "metadata": {},
   "outputs": [],
   "source": [
    "model = FisherLinearDiscriminant()\n",
    "model.fit(X, y);"
   ]
  },
  {
   "cell_type": "markdown",
   "metadata": {},
   "source": [
    "Once we have fit the model, we can look at the distribution of $f(\\bx_n)$ by class. We hope to see a significant separation between classes and a significant clustering within classes. The histogram below shows that we've nearly separated the two classes and the two classes are decently clustered. We would presumably choose a cutoff somewhere between $f(x) = -.09$ and $f(x) = -.08$."
   ]
  },
  {
   "cell_type": "code",
   "execution_count": 6,
   "metadata": {
    "tags": [
     "hide-input"
    ]
   },
   "outputs": [
    {
     "data": {
      "image/png": "[encoded data removed]",
      "text/plain": [
       "<Figure size 504x360 with 1 Axes>"
      ]
     },
     "metadata": {
      "needs_background": "light"
     },
     "output_type": "display_data"
    }
   ],
   "source": [
    "fig, ax = plt.subplots(figsize = (7,5))\n",
    "sns.distplot(model.f[model.y == 0], bins = 25, kde = False, \n",
    "             color = 'cornflowerblue', label = 'Class 0')\n",
    "sns.distplot(model.f[model.y == 1], bins = 25, kde = False, \n",
    "             color = 'darkblue', label = 'Class 1')\n",
    "ax.set_xlabel(r\"$f\\hspace{.25}(x_n)$\", size = 14)\n",
    "ax.set_title(r\"Histogram of $f\\hspace{.25}(x_n)$ by Class\", size = 16)\n",
    "ax.legend()\n",
    "sns.despine()"
   ]
  }
 ],
 "metadata": {
  "celltoolbar": "Edit Metadata",
  "kernelspec": {
   "display_name": "Python 3",
   "language": "python",
   "name": "python3"
  },
  "language_info": {
   "codemirror_mode": {
    "name": "ipython",
    "version": 3
   },
   "file_extension": ".py",
   "mimetype": "text/x-python",
   "name": "python",
   "nbconvert_exporter": "python",
   "pygments_lexer": "ipython3",
   "version": "3.7.6"
  }
 },
 "nbformat": 4,
 "nbformat_minor": 4
}
