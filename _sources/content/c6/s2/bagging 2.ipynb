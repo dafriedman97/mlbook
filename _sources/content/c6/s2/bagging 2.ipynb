{
 "cells": [
  {
   "cell_type": "markdown",
   "metadata": {},
   "source": [
    "# Bagging"
   ]
  },
  {
   "cell_type": "markdown",
   "metadata": {},
   "source": [
    "Bagging can be used for regression or classification, though we will demonstrate a regression bagging model here. Since this model is based on decision tree regressors, we'll first import our {doc}`regression tree </content/c5/s2/regression_tree>` construction from the previous chapter. We'll also import numpy and the visualization packages."
   ]
  },
  {
   "cell_type": "code",
   "execution_count": 1,
   "metadata": {
    "tags": [
     "remove-output"
    ]
   },
   "outputs": [
    {
     "name": "stdout",
     "output_type": "stream",
     "text": [
      "importing Jupyter notebook from regression_tree.ipynb\n"
     ]
    }
   ],
   "source": [
    "## Import decision trees\n",
    "import import_ipynb\n",
    "import regression_tree as rt;\n",
    "\n",
    "## Import numpy and visualization packages\n",
    "import numpy as np \n",
    "import matplotlib.pyplot as plt\n",
    "import seaborn as sns\n",
    "from sklearn import datasets"
   ]
  },
  {
   "cell_type": "markdown",
   "metadata": {},
   "source": [
    "We will build our bagging model on the {doc}`tips </content/appendix/data>` dataset from `scikit-learn`. The hidden code cell below loads that data and does a train-test split. "
   ]
  },
  {
   "cell_type": "code",
   "execution_count": 2,
   "metadata": {
    "tags": [
     "hide-input"
    ]
   },
   "outputs": [],
   "source": [
    "## Load data\n",
    "tips = sns.load_dataset('tips')\n",
    "X = np.array(tips.drop(columns = 'tip'))\n",
    "y = np.array(tips['tip'])\n",
    "\n",
    "## Train-test split\n",
    "np.random.seed(1)\n",
    "test_frac = 0.25\n",
    "test_size = int(len(y)*test_frac)\n",
    "test_idxs = np.random.choice(np.arange(len(y)), test_size, replace = False)\n",
    "X_train = np.delete(X, test_idxs, 0)\n",
    "y_train = np.delete(y, test_idxs, 0)\n",
    "X_test = X[test_idxs]\n",
    "y_test = y[test_idxs]"
   ]
  },
  {
   "cell_type": "markdown",
   "metadata": {},
   "source": [
    "Now we can get right into the bagging class. To fit the `Bagger` object, we provide training data, the number of bootstraps (`B`), and size regulation parameters for the decision trees. The object then takes `B` bootstraps of the data, each time fitting a decision tree regressor. To form predictions with the `Bagger` object, we simply run test observations through each bootstrapped tree and average the fitted values. "
   ]
  },
  {
   "cell_type": "code",
   "execution_count": 3,
   "metadata": {},
   "outputs": [],
   "source": [
    "class Bagger:\n",
    "    \n",
    "    def fit(self, X_train, y_train, B, max_depth = 100, min_size = 2, seed = None):\n",
    "        \n",
    "        self.X_train = X_train\n",
    "        self.N, self.D = X_train.shape\n",
    "        self.y_train = y_train\n",
    "        self.B = B\n",
    "        self.seed = seed\n",
    "        self.trees = []\n",
    "        \n",
    "        np.random.seed(seed)\n",
    "        for b in range(self.B):\n",
    "            \n",
    "            sample = np.random.choice(np.arange(self.N), size = self.N, replace = True)\n",
    "            X_train_b = X_train[sample]\n",
    "            y_train_b = y_train[sample]\n",
    "            \n",
    "            tree = rt.DecisionTreeRegressor()\n",
    "            tree.fit(X_train_b, y_train_b, max_depth = max_depth, min_size = min_size)\n",
    "            self.trees.append(tree)\n",
    "            \n",
    "        \n",
    "    def predict(self, X_test):\n",
    "        \n",
    "        y_test_hats = np.empty((len(self.trees), len(X_test)))\n",
    "        for i, tree in enumerate(self.trees):\n",
    "            y_test_hats[i] = tree.predict(X_test)\n",
    "        \n",
    "        return y_test_hats.mean(0)\n",
    "        "
   ]
  },
  {
   "cell_type": "markdown",
   "metadata": {},
   "source": [
    "We can now fit the bagging model and display the observed versus fitted values. "
   ]
  },
  {
   "cell_type": "code",
   "execution_count": 4,
   "metadata": {},
   "outputs": [
    {
     "data": {
      "image/png": "[encoded data removed]",
      "text/plain": [
       "<Figure size 504x360 with 1 Axes>"
      ]
     },
     "metadata": {
      "needs_background": "light"
     },
     "output_type": "display_data"
    }
   ],
   "source": [
    "## Build model\n",
    "bagger = Bagger()\n",
    "bagger.fit(X_train, y_train, B = 30, max_depth = 20, min_size = 5, seed = 123)\n",
    "y_test_hat = bagger.predict(X_test)\n",
    "\n",
    "## Plot\n",
    "fig, ax = plt.subplots(figsize = (7, 5))\n",
    "sns.scatterplot(y_test, y_test_hat)\n",
    "ax.set(xlabel = r'$y$', ylabel = r'$\\hat{y}$', title = r'Observed vs. Fitted Values for Bagging')\n",
    "sns.despine()"
   ]
  }
 ],
 "metadata": {
  "celltoolbar": "Edit Metadata",
  "kernelspec": {
   "display_name": "Python 3",
   "language": "python",
   "name": "python3"
  },
  "language_info": {
   "codemirror_mode": {
    "name": "ipython",
    "version": 3
   },
   "file_extension": ".py",
   "mimetype": "text/x-python",
   "name": "python",
   "nbconvert_exporter": "python",
   "pygments_lexer": "ipython3",
   "version": "3.7.6"
  }
 },
 "nbformat": 4,
 "nbformat_minor": 4
}
