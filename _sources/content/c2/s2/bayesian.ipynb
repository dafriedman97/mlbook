{
 "cells": [
  {
   "cell_type": "markdown",
   "metadata": {},
   "source": [
    "# Bayesian Regression"
   ]
  },
  {
   "cell_type": "code",
   "execution_count": 1,
   "metadata": {},
   "outputs": [],
   "source": [
    "import numpy as np \n",
    "import matplotlib.pyplot as plt\n",
    "import seaborn as sns\n",
    "from sklearn import datasets\n",
    "boston = datasets.load_boston()\n",
    "X = boston['data']\n",
    "y = boston['target']"
   ]
  },
  {
   "cell_type": "markdown",
   "metadata": {},
   "source": [
    "The `BayesianRegression` class estimates the regression coefficients using \n",
    "\n",
    "$$\n",
    "\\left(\\frac{1}{\\sigma^2}\\bX^\\top\\bX + \\frac{1}{\\tau} I\\right)^{-1}\\frac{1}{\\sigma^2}\\bX^\\top\\by.\n",
    "$$\n",
    "\n",
    "Note that this assumes $\\sigma^2$ and $\\tau$ are known. We can determine the influence of the prior distribution by manipulationg $\\tau$, though there are principled ways to choose $\\tau$. There are also principled Bayesian methods to model $\\sigma^2$ (see [here](https://www.statlect.com/fundamentals-of-statistics/Bayesian-regression)), though for simplicity we will estimate it with the typical OLS estimate:\n",
    "\n",
    "$$\n",
    "\\hat{\\sigma}^2 = \\frac{SSE}{N - (D + 1)},\n",
    "$$\n",
    "\n",
    "where $SSE$ is the sum of squared errors from an ordinary linear regression, $N$ is the number of observations, and $D$ is the number of predictors. Using the linear regression model from chapter 1, this comes out to about 11.8."
   ]
  },
  {
   "cell_type": "code",
   "execution_count": 2,
   "metadata": {},
   "outputs": [],
   "source": [
    "class BayesianRegression:\n",
    "    \n",
    "    def fit(self, X, y, sigma_squared, tau, add_intercept = True):\n",
    "        \n",
    "        # record info\n",
    "        if add_intercept:\n",
    "            ones = np.ones(len(X)).reshape((len(X),1))\n",
    "            X = np.append(ones, np.array(X), axis = 1)\n",
    "        self.X = X\n",
    "        self.y = y\n",
    "        \n",
    "        # fit\n",
    "        XtX = np.dot(X.T, X)/sigma_squared\n",
    "        I = np.eye(X.shape[1])/tau\n",
    "        inverse = np.linalg.inv(XtX + I)\n",
    "        Xty = np.dot(X.T, y)/sigma_squared\n",
    "        self.beta_hats = np.dot(inverse , Xty)\n",
    "        \n",
    "        # fitted values\n",
    "        self.y_hat = np.dot(X, self.beta_hats)\n",
    "        \n",
    "        "
   ]
  },
  {
   "cell_type": "markdown",
   "metadata": {},
   "source": [
    "Let's fit a Bayesian regression model on the {doc}`Boston housing </content/appendix/data>` dataset. We'll use $\\sigma^2 = 11.8$ and $\\tau = 10$. "
   ]
  },
  {
   "cell_type": "code",
   "execution_count": 3,
   "metadata": {},
   "outputs": [],
   "source": [
    "sigma_squared = 11.8\n",
    "tau = 10\n",
    "model = BayesianRegression()\n",
    "model.fit(X, y, sigma_squared, tau)"
   ]
  },
  {
   "cell_type": "markdown",
   "metadata": {},
   "source": [
    "The below plot shows the estimated coefficients for varying levels of $\\tau$. A lower value of $\\tau$ indicates a stronger prior, and therefore a greater pull of the coefficients towards their expected value (in this case, 0). As expected, the estimates approach 0 as $\\tau$ decreases."
   ]
  },
  {
   "cell_type": "code",
   "execution_count": 4,
   "metadata": {},
   "outputs": [
    {
     "data": {
      "image/png": "[encoded data removed]",
      "text/plain": [
       "<Figure size 1440x324 with 3 Axes>"
      ]
     },
     "metadata": {
      "needs_background": "light"
     },
     "output_type": "display_data"
    }
   ],
   "source": [
    "Xs = ['X'+str(i + 1) for i in range(X.shape[1])]\n",
    "taus = [100, 10, 1]\n",
    "\n",
    "fig, ax = plt.subplots(ncols = len(taus), figsize = (20, 4.5), sharey = True)\n",
    "for i, tau in enumerate(taus):\n",
    "    model = BayesianRegression()\n",
    "    model.fit(X, y, sigma_squared, tau) \n",
    "    betas = model.beta_hats[1:]\n",
    "    sns.barplot(Xs, betas, ax = ax[i], palette = 'PuBu')\n",
    "    ax[i].set(xlabel = 'Regressor', title = fr'Regression Coefficients with $\\tau = $ {tau}')\n",
    "    ax[i].set(xticks = np.arange(0, len(Xs), 2), xticklabels = Xs[::2])\n",
    "\n",
    "ax[0].set(ylabel = 'Coefficient')\n",
    "sns.set_context(\"talk\")\n",
    "sns.despine();"
   ]
  }
 ],
 "metadata": {
  "celltoolbar": "Edit Metadata",
  "kernelspec": {
   "display_name": "Python 3",
   "language": "python",
   "name": "python3"
  },
  "language_info": {
   "codemirror_mode": {
    "name": "ipython",
    "version": 3
   },
   "file_extension": ".py",
   "mimetype": "text/x-python",
   "name": "python",
   "nbconvert_exporter": "python",
   "pygments_lexer": "ipython3",
   "version": "3.7.6"
  }
 },
 "nbformat": 4,
 "nbformat_minor": 4
}
