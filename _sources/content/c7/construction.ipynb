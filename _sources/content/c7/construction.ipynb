{
 "cells": [
  {
   "cell_type": "markdown",
   "metadata": {},
   "source": [
    "# Construction"
   ]
  },
  {
   "cell_type": "markdown",
   "metadata": {},
   "source": [
    "In this section, we construct two classes to implement a basic feed-forward neural network. For simplicity, both are limited to one hidden layer, though the number of neurons in the input, hidden, and output layers is flexible. The two differ in how they combine results across observations. The first loops through observations and adds the individual gradients while the second calculates the entire gradient across observatinos in one fell swoop. \n",
    "\n",
    "Let's start by importing `numpy`, some visualization packages, and two datasets: the {doc}`Boston </content/appendix/data>` housing and {doc}`breast cancer </content/appendix/data>` datasets from `scikit-learn`. We will use the former for regression and the latter for classification. We also split each dataset into a train and test set. This is done with the hidden code cell below"
   ]
  },
  {
   "cell_type": "code",
   "execution_count": 591,
   "metadata": {
    "tags": [
     "hide-input"
    ]
   },
   "outputs": [],
   "source": [
    "## Import numpy and visualization packages\n",
    "import numpy as np \n",
    "import matplotlib.pyplot as plt\n",
    "import seaborn as sns\n",
    "from sklearn import datasets\n",
    "\n",
    "## Import Boston and standardize\n",
    "np.random.seed(123)\n",
    "boston = datasets.load_boston()\n",
    "X_boston = boston['data']\n",
    "X_boston = (X_boston - X_boston.mean(0))/(X_boston.std(0))\n",
    "y_boston = boston['target']\n",
    "\n",
    "## Train-test split\n",
    "np.random.seed(123)\n",
    "test_frac = 0.25\n",
    "test_size = int(len(y_boston)*test_frac)\n",
    "test_idxs = np.random.choice(np.arange(len(y_boston)), test_size, replace = False)\n",
    "X_boston_train = np.delete(X_boston, test_idxs, 0)\n",
    "y_boston_train = np.delete(y_boston, test_idxs, 0)\n",
    "X_boston_test = X_boston[test_idxs]\n",
    "y_boston_test = y_boston[test_idxs]\n",
    "\n",
    "## Import cancer and standardize\n",
    "np.random.seed(123)\n",
    "cancer = datasets.load_breast_cancer()\n",
    "X_cancer = cancer['data']\n",
    "X_cancer = (X_cancer - X_cancer.mean(0))/(X_cancer.std(0))\n",
    "y_cancer = 1*(cancer['target'] == 1)\n",
    "\n",
    "## Train-test split\n",
    "np.random.seed(123)\n",
    "test_frac = 0.25\n",
    "test_size = int(len(y_cancer)*test_frac)\n",
    "test_idxs = np.random.choice(np.arange(len(y_cancer)), test_size, replace = False)\n",
    "X_cancer_train = np.delete(X_cancer, test_idxs, 0)\n",
    "y_cancer_train = np.delete(y_cancer, test_idxs, 0)\n",
    "X_cancer_test = X_cancer[test_idxs]\n",
    "y_cancer_test = y_cancer[test_idxs]"
   ]
  },
  {
   "cell_type": "markdown",
   "metadata": {},
   "source": [
    "Before constructing classes for our network, let's build our activation functions. Below we implement the ReLU function, sigmoid function, and the linear function (which simply returns its input). Let's also combine these functions into a dictionary so we can identify them with a string argument. "
   ]
  },
  {
   "cell_type": "code",
   "execution_count": 544,
   "metadata": {},
   "outputs": [],
   "source": [
    "## Activation Functions \n",
    "def ReLU(h):\n",
    "    return np.maximum(h, 0)\n",
    "\n",
    "def sigmoid(h):\n",
    "    return 1/(1 + np.exp(-h))\n",
    "    \n",
    "def linear(h):\n",
    "    return h\n",
    "\n",
    "activation_function_dict = {'ReLU':ReLU, 'sigmoid':sigmoid, 'linear':linear}"
   ]
  },
  {
   "cell_type": "markdown",
   "metadata": {},
   "source": [
    "## 1. The Loop Approach"
   ]
  },
  {
   "cell_type": "markdown",
   "metadata": {},
   "source": [
    "Next, we construct a class for fitting feed-forward networks by looping through observations. This class conducts gradient descent by calculating the gradients based on one observation at a time, looping through all observations, and summing the gradients before adjusting the weights.\n",
    "\n",
    "Once instantiated, we fit a network with the `fit()` method. This method requires training data, the number of nodes for the hidden layer, an activation function for the first and second layers' outputs, a loss function, and some parameters for gradient descent. After storing those values, the method randomly instantiates the network's weights: `W1`, `c1`, `W2`, and `c2`. It then passes the data through this network to instantiate the output values: `h1`, `z1`, `h2`, and `yhat` (equivalent to `z2`).\n",
    "\n",
    "We then begin conducting gradient descent. Within each iteration of the gradient descent process, we also iterate through the observations. For each observation, we calculate the derivative of the loss for that observation with respect to the network's weights. We then sum these individual derivatives and adjust the weights accordingly, as is typical in gradient descent. The derivatives we calculate are covered in the {doc}`concept section </content/c7/concept>`. \n",
    "\n",
    "Once the network is fit, we can form predictions with the `predict()` method. This simply consists of running test observations through the network and returning their outputs.\n"
   ]
  },
  {
   "cell_type": "code",
   "execution_count": 607,
   "metadata": {},
   "outputs": [],
   "source": [
    "class FeedForwardNeuralNetwork:\n",
    "    \n",
    "    def fit(self, X, y, n_hidden, f1 = 'ReLU', f2 = 'linear', loss = 'RSS', lr = 1e-5, n_iter = 1e3, seed = None):\n",
    "        \n",
    "        ## Store Information\n",
    "        self.X = X\n",
    "        self.y = y.reshape(len(y), -1)\n",
    "        self.N = len(X)\n",
    "        self.D_X = self.X.shape[1]\n",
    "        self.D_y = self.y.shape[1]\n",
    "        self.D_h = n_hidden\n",
    "        self.f1, self.f2 = f1, f2\n",
    "        self.loss = loss\n",
    "        self.lr = lr\n",
    "        self.n_iter = int(n_iter)\n",
    "        self.seed = seed\n",
    "        \n",
    "        ## Instantiate Weights\n",
    "        np.random.seed(self.seed)\n",
    "        self.W1 = np.random.randn(self.D_h, self.D_X)/5\n",
    "        self.c1 = np.random.randn(self.D_h, 1)/5\n",
    "        self.W2 = np.random.randn(self.D_y, self.D_h)/5\n",
    "        self.c2 = np.random.randn(self.D_y, 1)/5\n",
    "        \n",
    "        ## Instantiate Outputs\n",
    "        self.h1 = np.dot(self.W1, self.X.T) + self.c1\n",
    "        self.z1 = activation_function_dict[f1](self.h1)\n",
    "        self.h2 = np.dot(self.W2, self.z1) + self.c2\n",
    "        self.yhat = activation_function_dict[f2](self.h2)\n",
    "        \n",
    "        ## Fit Weights\n",
    "        for iteration in range(self.n_iter):\n",
    "            \n",
    "            dL_dW2 = 0\n",
    "            dL_dc2 = 0\n",
    "            dL_dW1 = 0\n",
    "            dL_dc1 = 0\n",
    "            \n",
    "            for n in range(self.N):\n",
    "                \n",
    "                # dL_dyhat\n",
    "                if loss == 'RSS':\n",
    "                    dL_dyhat = -2*(self.y[n] - self.yhat[:,n]).T # (1, D_y)\n",
    "                elif loss == 'log':\n",
    "                    dL_dyhat = (-(self.y[n]/self.yhat[:,n]) + (1-self.y[n])/(1-self.yhat[:,n])).T # (1, D_y)\n",
    "                \n",
    "        \n",
    "                ## LAYER 2 ## \n",
    "                # dyhat_dh2 \n",
    "                if f2 == 'linear':\n",
    "                    dyhat_dh2 = np.eye(self.D_y) # (D_y, D_y)\n",
    "                elif f2 == 'sigmoid':\n",
    "                    dyhat_dh2 = np.diag(sigmoid(self.h2[:,n])*(1-sigmoid(self.h2[:,n]))) # (D_y, D_y)\n",
    "                    \n",
    "                # dh2_dc2\n",
    "                dh2_dc2 = np.eye(self.D_y) # (D_y, D_y)\n",
    "                \n",
    "                # dh2_dW2 \n",
    "                dh2_dW2 = np.zeros((self.D_y, self.D_y, self.D_h)) # (D_y, (D_y, D_h)) \n",
    "                for i in range(self.D_y):\n",
    "                    dh2_dW2[i] = self.z1[:,n] \n",
    "                \n",
    "                # dh2_dz1\n",
    "                dh2_dz1 = self.W2 # (D_y, D_h)\n",
    "                \n",
    "                \n",
    "                ## LAYER 1 ##\n",
    "                # dz1_dh1\n",
    "                if f1 == 'ReLU':\n",
    "                    dz1_dh1 = 1*np.diag(self.h1[:,n] > 0) # (D_h, D_h)                \n",
    "                elif f1 == 'linear':\n",
    "                    dz1_dh1 = np.eye(self.D_h) # (D_h, D_h)\n",
    "\n",
    "                \n",
    "                # dh1_dc1 \n",
    "                dh1_dc1 = np.eye(self.D_h) # (D_h, D_h)\n",
    "                \n",
    "                # dh1_dW1\n",
    "                dh1_dW1 = np.zeros((self.D_h, self.D_h, self.D_X)) # (D_h, (D_h, D_X))\n",
    "                for i in range(self.D_h):\n",
    "                    dh1_dW1[i] = self.X[n]\n",
    "                \n",
    "                \n",
    "                ## DERIVATIVES W.R.T. LOSS ## \n",
    "                dL_dh2 = dL_dyhat @ dyhat_dh2\n",
    "                dL_dW2 += dL_dh2 @ dh2_dW2\n",
    "                dL_dc2 += dL_dh2 @ dh2_dc2\n",
    "                dL_dh1 = dL_dh2 @ dh2_dz1 @ dz1_dh1\n",
    "                dL_dW1 += dL_dh1 @ dh1_dW1\n",
    "                dL_dc1 += dL_dh1 @ dh1_dc1\n",
    "            \n",
    "            ## Update Weights\n",
    "            self.W1 -= self.lr * dL_dW1\n",
    "            self.c1 -= self.lr * dL_dc1.reshape(-1, 1)           \n",
    "            self.W2 -= self.lr * dL_dW2            \n",
    "            self.c2 -= self.lr * dL_dc2.reshape(-1, 1)                    \n",
    "            \n",
    "            ## Update Outputs\n",
    "            self.h1 = np.dot(self.W1, self.X.T) + self.c1\n",
    "            self.z1 = activation_function_dict[f1](self.h1)\n",
    "            self.h2 = np.dot(self.W2, self.z1) + self.c2\n",
    "            self.yhat = activation_function_dict[f2](self.h2)\n",
    "            \n",
    "    def predict(self, X_test):\n",
    "        self.h1 = np.dot(self.W1, X_test.T) + self.c1\n",
    "        self.z1 = activation_function_dict[self.f1](self.h1)\n",
    "        self.h2 = np.dot(self.W2, self.z1) + self.c2\n",
    "        self.yhat = activation_function_dict[self.f2](self.h2)        \n",
    "        return self.yhat\n",
    "    "
   ]
  },
  {
   "cell_type": "markdown",
   "metadata": {},
   "source": [
    "Let's try building a network with this class using the `boston` housing data. This network contains 8 neurons in its hidden layer and uses the ReLU and linear activation functions after the first and second layers, respectively."
   ]
  },
  {
   "cell_type": "code",
   "execution_count": 625,
   "metadata": {},
   "outputs": [
    {
     "data": {
      "image/png": "[encoded data removed]",
      "text/plain": [
       "<Figure size 432x288 with 1 Axes>"
      ]
     },
     "metadata": {
      "needs_background": "light"
     },
     "output_type": "display_data"
    }
   ],
   "source": [
    "ffnn = FeedForwardNeuralNetwork()\n",
    "ffnn.fit(X_boston_train, y_boston_train, n_hidden = 8)\n",
    "y_boston_test_hat = ffnn.predict(X_boston_test)\n",
    "\n",
    "fig, ax = plt.subplots()\n",
    "sns.scatterplot(y_boston_test, y_boston_test_hat[0])\n",
    "ax.set(xlabel = r'$y$', ylabel = r'$\\hat{y}$', title = r'$y$ vs. $\\hat{y}$')\n",
    "sns.despine()"
   ]
  },
  {
   "cell_type": "markdown",
   "metadata": {},
   "source": [
    "We can also build a network for binary classification. The model below attempts to predict whether an individual's cancer is malignant or benign. We use the log loss, the sigmoid activation function after the second layer, and the ReLU function after the first."
   ]
  },
  {
   "cell_type": "code",
   "execution_count": 617,
   "metadata": {},
   "outputs": [
    {
     "data": {
      "text/plain": [
       "0.9929577464788732"
      ]
     },
     "execution_count": 617,
     "metadata": {},
     "output_type": "execute_result"
    }
   ],
   "source": [
    "ffnn = FeedForwardNeuralNetwork()\n",
    "ffnn.fit(X_cancer_train, y_cancer_train, n_hidden = 8,\n",
    "         loss = 'log', f2 = 'sigmoid', seed = 123, lr = 1e-4)\n",
    "y_cancer_test_hat = ffnn.predict(X_cancer_test)\n",
    "np.mean(y_cancer_test_hat.round() == y_cancer_test)\n"
   ]
  },
  {
   "cell_type": "markdown",
   "metadata": {},
   "source": [
    "## 2. The Matrix Approach"
   ]
  },
  {
   "cell_type": "markdown",
   "metadata": {},
   "source": [
    "Below is a second class for fitting neural networks that runs *much* faster by simultaneously calculating the gradients across observations. The math behind these calculations is outlined in the {doc}`concept section </content/c7/concept>`. This class's fitting algorithm is identical to that of the one above with one big exception: we don't have to iterate over observations.\n",
    "\n",
    "Most of the following gradient calculations are straightforward. A few require a tensor dot product, which is easily done using numpy. Consider the following gradient:\n",
    "\n",
    "$$\n",
    "\\frac{\\partial \\mathcal{L}}{\\partial \\mathbf{W}^{(L)}_{i, j}} = \\sum_{n = 1}^N (\\nabla \\mathbf{H}^{(L)})_{i, n}\\cdot \\mathbf{Z}^{(L-1)}_{j, n}.\n",
    "$$\n",
    "\n",
    "In words, $\\partial\\mathcal{L}/\\partial \\mathbf{W}^{(L)}$ is a matrix whose $(i, j)^\\text{th}$ entry equals the sum across the $i^\\text{th}$ row of $\\nabla \\mathbf{H}^{(L)}$ multiplied element-wise with the $j^\\text{th}$ row of $\\mathbf{Z}^{(L-1)}$. \n",
    "\n",
    "This calculation can be accomplished with `np.tensordot(A, B, (1,1))`, where `A` is $\\nabla \\mathbf{H}^{(L)}$ and `B` is $\\mathbf{Z}^{(L-1)}$. `np.tensordot()` sums the element-wise product of the entries in `A` and the entries in `B` along a specified index. Here we specify the index with `(1,1)`, saying we want to sum across the columns for each.\n",
    "\n",
    "Similarly, we will use the following gradient: \n",
    "\n",
    "$$\n",
    "\\frac{\\partial \\mathcal{L}}{\\partial \\mathbf{Z}^{(L-1)}_{i, n}} = \\sum_{d = 1}^{D_y} (\\nabla \\mathbf{H}^{(L)})_{d, n}\\cdot \\mathbf{W}^{(L)}_{d, i}.\n",
    "$$\n",
    "\n",
    "Letting `C` represent $\\mathbf{W}^{(L)}$, we can calculate this gradient in numpy with `np.tensordot(C, A, (0,0))`."
   ]
  },
  {
   "cell_type": "code",
   "execution_count": 634,
   "metadata": {},
   "outputs": [],
   "source": [
    "class FeedForwardNeuralNetwork:\n",
    "    \n",
    "    \n",
    "    def fit(self, X, Y, n_hidden, f1 = 'ReLU', f2 = 'linear', loss = 'RSS', lr = 1e-5, n_iter = 5e3, seed = None):\n",
    "        \n",
    "        ## Store Information\n",
    "        self.X = X\n",
    "        self.Y = Y.reshape(len(Y), -1)\n",
    "        self.N = len(X)\n",
    "        self.D_X = self.X.shape[1]\n",
    "        self.D_Y = self.Y.shape[1]\n",
    "        self.Xt = self.X.T\n",
    "        self.Yt = self.Y.T\n",
    "        self.D_h = n_hidden\n",
    "        self.f1, self.f2 = f1, f2\n",
    "        self.loss = loss\n",
    "        self.lr = lr\n",
    "        self.n_iter = int(n_iter)\n",
    "        self.seed = seed\n",
    "        \n",
    "        ## Instantiate Weights\n",
    "        np.random.seed(self.seed)\n",
    "        self.W1 = np.random.randn(self.D_h, self.D_X)/5\n",
    "        self.c1 = np.random.randn(self.D_h, 1)/5\n",
    "        self.W2 = np.random.randn(self.D_Y, self.D_h)/5\n",
    "        self.c2 = np.random.randn(self.D_Y, 1)/5\n",
    "        \n",
    "        ## Instantiate Outputs\n",
    "        self.H1 = (self.W1 @ self.Xt) + self.c1\n",
    "        self.Z1 = activation_function_dict[self.f1](self.H1)\n",
    "        self.H2 = (self.W2 @ self.Z1) + self.c2\n",
    "        self.Yhatt = activation_function_dict[self.f2](self.H2)\n",
    "        \n",
    "        ## Fit Weights\n",
    "        for iteration in range(self.n_iter):\n",
    "            \n",
    "            # Yhat #\n",
    "            if self.loss == 'RSS':\n",
    "                self.dL_dYhatt = -(self.Yt - self.Yhatt) # (D_Y x N)\n",
    "            elif self.loss == 'log':\n",
    "                self.dL_dYhatt = (-(self.Yt/self.Yhatt) + (1-self.Yt)/(1-self.Yhatt)) # (D_y x N)\n",
    "            \n",
    "            # H2 #\n",
    "            if self.f2 == 'linear':\n",
    "                self.dYhatt_dH2 = np.ones((self.D_Y, self.N))\n",
    "            elif self.f2 == 'sigmoid':\n",
    "                self.dYhatt_dH2 = sigmoid(self.H2) * (1- sigmoid(self.H2))\n",
    "            self.dL_dH2 = self.dL_dYhatt * self.dYhatt_dH2 # (D_Y x N)\n",
    "\n",
    "            # c2 # \n",
    "            self.dL_dc2 = np.sum(self.dL_dH2, 1) # (D_y)\n",
    "            \n",
    "            # W2 # \n",
    "            self.dL_dW2 = np.tensordot(self.dL_dH2, self.Z1, (1,1)) # (D_Y x D_h)\n",
    "            \n",
    "            # Z1 #\n",
    "            self.dL_dZ1 = np.tensordot(self.W2, self.dL_dH2, (0, 0)) # (D_h x N)\n",
    "            \n",
    "            # H1 #\n",
    "            if self.f1 == 'ReLU':\n",
    "                self.dL_dH1 = self.dL_dZ1 * np.maximum(self.H1, 0) # (D_h x N)\n",
    "            elif self.f1 == 'linear':\n",
    "                self.dL_dH1 = self.dL_dZ1 # (D_h x N)\n",
    "            \n",
    "            # c1 #\n",
    "            self.dL_dc1 = np.sum(self.dL_dH1, 1) # (D_h)\n",
    "            \n",
    "            # W1 # \n",
    "            self.dL_dW1 = np.tensordot(self.dL_dH1, self.Xt, (1,1)) # (D_h, D_X)\n",
    "            \n",
    "            ## Update Weights\n",
    "            self.W1 -= self.lr * self.dL_dW1\n",
    "            self.c1 -= self.lr * self.dL_dc1.reshape(-1, 1)           \n",
    "            self.W2 -= self.lr * self.dL_dW2            \n",
    "            self.c2 -= self.lr * self.dL_dc2.reshape(-1, 1)                    \n",
    "            \n",
    "            ## Update Outputs\n",
    "            self.H1 = (self.W1 @ self.Xt) + self.c1\n",
    "            self.Z1 = activation_function_dict[self.f1](self.H1)\n",
    "            self.H2 = (self.W2 @ self.Z1) + self.c2\n",
    "            self.Yhatt = activation_function_dict[self.f2](self.H2)  \n",
    "            \n",
    "    def predict(self, X_test):\n",
    "        X_testt = X_test.T\n",
    "        self.h1 = (self.W1 @ X_testt) + self.c1\n",
    "        self.z1 = activation_function_dict[self.f1](self.h1)\n",
    "        self.h2 = (self.W2 @ self.z1) + self.c2\n",
    "        self.Yhatt = activation_function_dict[self.f2](self.h2)        \n",
    "        return self.Yhatt\n"
   ]
  },
  {
   "cell_type": "markdown",
   "metadata": {},
   "source": [
    "We fit networks of this class in the same way as before. Examples of regression with the `boston` housing data and classification with the `breast_cancer` data are shown below."
   ]
  },
  {
   "cell_type": "code",
   "execution_count": 637,
   "metadata": {},
   "outputs": [
    {
     "data": {
      "image/png": "[encoded data removed]",
      "text/plain": [
       "<Figure size 432x288 with 1 Axes>"
      ]
     },
     "metadata": {
      "needs_background": "light"
     },
     "output_type": "display_data"
    }
   ],
   "source": [
    "ffnn = FeedForwardNeuralNetwork()\n",
    "ffnn.fit(X_boston_train, y_boston_train, n_hidden = 8)\n",
    "y_boston_test_hat = ffnn.predict(X_boston_test)\n",
    "\n",
    "fig, ax = plt.subplots()\n",
    "sns.scatterplot(y_boston_test, y_boston_test_hat[0])\n",
    "ax.set(xlabel = r'$y$', ylabel = r'$\\hat{y}$', title = r'$y$ vs. $\\hat{y}$')\n",
    "sns.despine()"
   ]
  },
  {
   "cell_type": "code",
   "execution_count": 638,
   "metadata": {},
   "outputs": [
    {
     "data": {
      "text/plain": [
       "0.9929577464788732"
      ]
     },
     "execution_count": 638,
     "metadata": {},
     "output_type": "execute_result"
    }
   ],
   "source": [
    "ffnn = FeedForwardNeuralNetwork()\n",
    "ffnn.fit(X_cancer_train, y_cancer_train, n_hidden = 8,\n",
    "         loss = 'log', f2 = 'sigmoid', seed = 123, lr = 1e-4)\n",
    "y_cancer_test_hat = ffnn.predict(X_cancer_test)\n",
    "np.mean(y_cancer_test_hat.round() == y_cancer_test)\n"
   ]
  }
 ],
 "metadata": {
  "celltoolbar": "Edit Metadata",
  "kernelspec": {
   "display_name": "Python 3",
   "language": "python",
   "name": "python3"
  },
  "language_info": {
   "codemirror_mode": {
    "name": "ipython",
    "version": 3
   },
   "file_extension": ".py",
   "mimetype": "text/x-python",
   "name": "python",
   "nbconvert_exporter": "python",
   "pygments_lexer": "ipython3",
   "version": "3.7.6"
  }
 },
 "nbformat": 4,
 "nbformat_minor": 4
}
