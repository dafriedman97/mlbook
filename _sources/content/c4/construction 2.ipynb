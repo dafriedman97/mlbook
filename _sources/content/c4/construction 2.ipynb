{
 "cells": [
  {
   "cell_type": "markdown",
   "metadata": {},
   "source": [
    "# Construction"
   ]
  },
  {
   "cell_type": "markdown",
   "metadata": {},
   "source": [
    "In this section, we build LDA, QDA, and Naive Bayes classifiers. We will demo these classes on the {doc}`wine </content/appendix/data>` dataset."
   ]
  },
  {
   "cell_type": "code",
   "execution_count": 2,
   "metadata": {},
   "outputs": [],
   "source": [
    "import numpy as np \n",
    "import matplotlib.pyplot as plt\n",
    "import seaborn as sns\n",
    "from sklearn import datasets\n",
    "\n",
    "wine = datasets.load_wine()\n",
    "X, y = wine.data, wine.target"
   ]
  },
  {
   "cell_type": "markdown",
   "metadata": {},
   "source": [
    "## LDA"
   ]
  },
  {
   "cell_type": "markdown",
   "metadata": {},
   "source": [
    "An implementation of linear discriminant analysis (LDA) is given below. The main method is `.fit()`. This method makes three important estimates. For each $k$, we estimate $\\pi_k$, the class prior probability. For each class we also estimate the mean of the data in that class, $\\bmu_k$. Finally, we estimate the overall covariance matrix across classes, $\\bSigma$. The formulas for these estimates are detailed in the {doc}`concept section </content/c4/concept>`.\n",
    "\n",
    "The second two methods, `.mvn_density()` and `.classify()` are for classifying new observations. `.mvn_density()` just calculates the density (up to a multiplicative constant) of a Multivariate Normal sample provided the mean vector and covariance matrix. `.classify()` actually makes the classifications for each test observation. It calculates the density for each class, $p(\\bx_n|Y_n = k)$, and multiplies this by the prior class probability, $p(Y_n = k) = \\pi_k$, to get a posterior class probability, $p(Y_n = k|\\bx_n)$. It then predicts the class with the highest posterior probability. "
   ]
  },
  {
   "cell_type": "code",
   "execution_count": 3,
   "metadata": {},
   "outputs": [],
   "source": [
    "class LDA:\n",
    "    \n",
    "    ## Fitting the model \n",
    "    def fit(self, X, y):\n",
    "        \n",
    "        ## Record info\n",
    "        self.N, self.D = X.shape\n",
    "        self.X = X\n",
    "        self.y = y\n",
    "        \n",
    "        ## Get prior probabilities \n",
    "        self.unique_y, unique_y_counts = np.unique(self.y, return_counts = True) # returns unique y and counts\n",
    "        self.pi_ks = unique_y_counts/self.N\n",
    "        \n",
    "        ## Get mu for each class and overall Sigma\n",
    "        self.mu_ks = []\n",
    "        self.Sigma = np.zeros((self.D, self.D))        \n",
    "        for i, k in enumerate(self.unique_y):\n",
    "            \n",
    "            X_k = self.X[self.y == k]\n",
    "            mu_k = X_k.mean(0).reshape(self.D, 1)\n",
    "            self.mu_ks.append(mu_k)\n",
    "\n",
    "            for x_n in X_k:\n",
    "                x_n = x_n.reshape(-1,1)\n",
    "                x_n_minus_mu_k = (x_n - mu_k)\n",
    "                self.Sigma += np.dot(x_n_minus_mu_k, x_n_minus_mu_k.T)\n",
    "            \n",
    "        self.Sigma /= self.N\n",
    "        \n",
    "        \n",
    "    ## Making classifications\n",
    "\n",
    "    def _mvn_density(self, x_n, mu_k, Sigma):\n",
    "        x_n_minus_mu_k = (x_n - mu_k)\n",
    "        density = np.exp(-(1/2)*x_n_minus_mu_k.T @ np.linalg.inv(Sigma) @ x_n_minus_mu_k)\n",
    "        return density\n",
    "            \n",
    "    def classify(self, X_test):\n",
    "        \n",
    "        y_n = np.empty(len(X_test))\n",
    "        for i, x_n in enumerate(X_test):\n",
    "            \n",
    "            x_n = x_n.reshape(-1, 1)\n",
    "            p_ks = np.empty(len(self.unique_y))\n",
    "        \n",
    "            for j, k in enumerate(self.unique_y):\n",
    "                p_x_given_y = self._mvn_density(x_n, self.mu_ks[j], self.Sigma)\n",
    "                p_y_given_x = self.pi_ks[j]*p_x_given_y\n",
    "                p_ks[j] = p_y_given_x\n",
    "            \n",
    "            y_n[i] = self.unique_y[np.argmax(p_ks)]\n",
    "        \n",
    "        return y_n\n",
    "            "
   ]
  },
  {
   "cell_type": "markdown",
   "metadata": {},
   "source": [
    "We fit the LDA model below and classify the training observations. As the output shows, we have 100% training accuracy."
   ]
  },
  {
   "cell_type": "code",
   "execution_count": 4,
   "metadata": {},
   "outputs": [
    {
     "data": {
      "text/plain": [
       "1.0"
      ]
     },
     "execution_count": 4,
     "metadata": {},
     "output_type": "execute_result"
    }
   ],
   "source": [
    "lda = LDA()\n",
    "lda.fit(X, y)\n",
    "yhat = lda.classify(X)\n",
    "np.mean(yhat == y)"
   ]
  },
  {
   "cell_type": "markdown",
   "metadata": {},
   "source": [
    "The function below visualizes class predictions based on the input values for a model with $\\bx_n \\in \\mathbb{R}^2$. To apply this function, we build a model with only two columns from the `wine` dataset. We see that the decision boundaries are linear, as we expect from LDA."
   ]
  },
  {
   "cell_type": "code",
   "execution_count": 5,
   "metadata": {},
   "outputs": [],
   "source": [
    "def graph_boundaries(X, model, model_title, n0 = 100, n1 = 100, figsize = (7, 5), label_every = 4):\n",
    "        \n",
    "        # Generate X for plotting \n",
    "        d0_range = np.linspace(X[:,0].min(), X[:,0].max(), n0)\n",
    "        d1_range = np.linspace(X[:,1].min(), X[:,1].max(), n1)\n",
    "        X_plot = np.array(np.meshgrid(d0_range, d1_range)).T.reshape(-1, 2)\n",
    "        \n",
    "        # Get class predictions\n",
    "        y_plot = model.classify(X_plot).astype(int)\n",
    "        \n",
    "        # Plot \n",
    "        fig, ax = plt.subplots(figsize = figsize)\n",
    "        sns.heatmap(y_plot.reshape(n0, n1).T,\n",
    "                   cmap = sns.color_palette('Pastel1', 3),\n",
    "                   cbar_kws = {'ticks':sorted(np.unique(y_plot))})\n",
    "        xticks, yticks = ax.get_xticks(), ax.get_yticks()\n",
    "        ax.set(xticks = xticks[::label_every], xticklabels = d0_range.round(2)[::label_every],\n",
    "               yticks = yticks[::label_every], yticklabels = d1_range.round(2)[::label_every])\n",
    "        ax.set(xlabel = 'X1', ylabel = 'X2', title = model_title + ' Predictions by X1 and X2')\n",
    "        ax.set_xticklabels(ax.get_xticklabels(), rotation=0)"
   ]
  },
  {
   "cell_type": "code",
   "execution_count": 6,
   "metadata": {},
   "outputs": [
    {
     "data": {
      "image/png": "[encoded data removed]",
      "text/plain": [
       "<Figure size 504x360 with 2 Axes>"
      ]
     },
     "metadata": {
      "needs_background": "light"
     },
     "output_type": "display_data"
    }
   ],
   "source": [
    "X_2d = X.copy()[:,2:4]\n",
    "lda_2d = LDA()\n",
    "lda_2d.fit(X_2d, y)\n",
    "graph_boundaries(X_2d, lda_2d, 'LDA')"
   ]
  },
  {
   "cell_type": "markdown",
   "metadata": {},
   "source": [
    "## QDA"
   ]
  },
  {
   "cell_type": "markdown",
   "metadata": {},
   "source": [
    "The QDA model is implemented below. It is nearly identical to LDA except the covariance matrices $\\bSigma_k$ are estimated separately. Again see the {doc}`concept section </content/c4/concept>` for details. "
   ]
  },
  {
   "cell_type": "code",
   "execution_count": 10,
   "metadata": {},
   "outputs": [],
   "source": [
    "class QDA:\n",
    "    \n",
    "    ## Fitting the model\n",
    "    \n",
    "    def fit(self, X, y):\n",
    "        \n",
    "        ## Record info\n",
    "        self.N, self.D = X.shape\n",
    "        self.X = X\n",
    "        self.y = y\n",
    "        \n",
    "        \n",
    "        ## Get prior probabilities \n",
    "        self.unique_y, unique_y_counts = np.unique(self.y, return_counts = True) # returns unique y and counts\n",
    "        self.pi_ks = unique_y_counts/self.N\n",
    "        \n",
    "        \n",
    "        ## Get mu and Sigma for each class\n",
    "        self.mu_ks = []\n",
    "        self.Sigma_ks = []\n",
    "        for i, k in enumerate(self.unique_y):\n",
    "            \n",
    "            X_k = self.X[self.y == k]\n",
    "            mu_k = X_k.mean(0).reshape(self.D, 1)\n",
    "            self.mu_ks.append(mu_k)\n",
    "            \n",
    "            Sigma_k = np.zeros((self.D, self.D))\n",
    "            for x_n in X_k:\n",
    "                x_n = x_n.reshape(-1,1)\n",
    "                x_n_minus_mu_k = (x_n - mu_k)\n",
    "                Sigma_k += np.dot(x_n_minus_mu_k, x_n_minus_mu_k.T)\n",
    "            self.Sigma_ks.append(Sigma_k/len(X_k))\n",
    "     \n",
    "    ## Making classifications \n",
    "    \n",
    "    def _mvn_density(self, x_n, mu_k, Sigma_k):\n",
    "        x_n_minus_mu_k = (x_n - mu_k)\n",
    "        density = np.linalg.det(Sigma_k)**(-1/2) * np.exp(-(1/2)*x_n_minus_mu_k.T @ np.linalg.inv(Sigma_k) @ x_n_minus_mu_k)\n",
    "        return density\n",
    "    \n",
    "    def classify(self, X_test):\n",
    "        \n",
    "        y_n = np.empty(len(X_test))\n",
    "        for i, x_n in enumerate(X_test):\n",
    "            \n",
    "            x_n = x_n.reshape(-1, 1)\n",
    "            p_ks = np.empty(len(self.unique_y))\n",
    "        \n",
    "            for j, k in enumerate(self.unique_y):\n",
    "\n",
    "                p_x_given_y = self._mvn_density(x_n, self.mu_ks[j], self.Sigma_ks[j])\n",
    "                p_y_given_x = self.pi_ks[j]*p_x_given_y\n",
    "                p_ks[j] = p_y_given_x\n",
    "            \n",
    "            y_n[i] = self.unique_y[np.argmax(p_ks)]\n",
    "        \n",
    "        return y_n\n",
    "            "
   ]
  },
  {
   "cell_type": "code",
   "execution_count": 11,
   "metadata": {},
   "outputs": [
    {
     "data": {
      "text/plain": [
       "0.9943820224719101"
      ]
     },
     "execution_count": 11,
     "metadata": {},
     "output_type": "execute_result"
    }
   ],
   "source": [
    "qda = QDA()\n",
    "qda.fit(X, y)\n",
    "yhat = qda.classify(X)\n",
    "np.mean(yhat == y)"
   ]
  },
  {
   "cell_type": "markdown",
   "metadata": {},
   "source": [
    "The below plot shows predictions based on the input variables for the QDA model. As expected, the decision boundaries are quadratic, rather than linear. We also see that the area corresponding to class 2 is much smaller than the other areas. This suggests that either there were fewer observations in class 2 or the estimated variance of the input variables for observations in class 2 was smaller than the variance for observations in other classes ."
   ]
  },
  {
   "cell_type": "code",
   "execution_count": 12,
   "metadata": {},
   "outputs": [
    {
     "data": {
      "image/png": "[encoded data removed]",
      "text/plain": [
       "<Figure size 504x360 with 2 Axes>"
      ]
     },
     "metadata": {
      "needs_background": "light"
     },
     "output_type": "display_data"
    }
   ],
   "source": [
    "qda_2d = QDA()\n",
    "qda_2d.fit(X_2d, y)\n",
    "graph_boundaries(X_2d, qda_2d, 'QDA')"
   ]
  },
  {
   "cell_type": "markdown",
   "metadata": {},
   "source": [
    "## Naive Bayes"
   ]
  },
  {
   "cell_type": "markdown",
   "metadata": {},
   "source": [
    "Finally, we implement a Naive Bayes model below. This model allows us to assign each variable in our dataset a distribution, though by default they are all assumed to be Normal. Since each variable has its own distribution, estimating the model's parameters is more involved. For each variable and each class, we estimate the parameters separately through the `_estimate_class_parameters`. The structure below allows for Normal, Bernoulli, and Poisson distributions, though any distribution could be implemented.\n",
    "\n",
    "Again, we make predictions by calculating $p(Y_n = k|\\bx_n)$ for $k = 1, \\dots, K$ through Bayes' rule and predicting the class with the highest posterior probability. Since each variable can have its own distribution, this problem is also more involved. The `_get_class_probability` method calculates the probability density of a test observation's input variables. By the conditional independence assumption, this is just the product of the individual densities. \n",
    "\n",
    "Naive Bayes performs worse than LDA or QDA on the training data, suggesting the conditional independence assumption might be inappropriate for this problem."
   ]
  },
  {
   "cell_type": "code",
   "execution_count": 11,
   "metadata": {},
   "outputs": [],
   "source": [
    "class NaiveBayes:\n",
    "    \n",
    "    ######## Fit Model ########\n",
    "\n",
    "    def _estimate_class_parameters(self, X_k):\n",
    "        \n",
    "        class_parameters = []\n",
    "        \n",
    "        for d in range(self.D):\n",
    "            X_kd = X_k[:,d] # only the dth column and the kth class\n",
    "            \n",
    "            if self.distributions[d] == 'normal':\n",
    "                mu = np.mean(X_kd)\n",
    "                sigma2 = np.var(X_kd)\n",
    "                class_parameters.append([mu, sigma2])\n",
    "            \n",
    "            if self.distributions[d] == 'bernoulli':\n",
    "                p = np.mean(X_kd)\n",
    "                class_parameters.append(p)\n",
    "                \n",
    "            if self.distributions[d] == 'poisson':\n",
    "                lam = np.mean(X_kd)\n",
    "                class_parameters.append(p)\n",
    "                \n",
    "        return class_parameters\n",
    "    \n",
    "    def fit(self, X, y, distributions = None):\n",
    "        \n",
    "        ## Record info\n",
    "        self.N, self.D = X.shape\n",
    "        self.X = X\n",
    "        self.y = y\n",
    "        if distributions is None:\n",
    "            distributions = ['normal' for i in range(len(y))]\n",
    "        self.distributions = distributions\n",
    "        \n",
    "        \n",
    "        ## Get prior probabilities \n",
    "        self.unique_y, unique_y_counts = np.unique(self.y, return_counts = True) # returns unique y and counts\n",
    "        self.pi_ks = unique_y_counts/self.N\n",
    "        \n",
    "        \n",
    "        ## Estimate parameters\n",
    "        self.parameters = []\n",
    "        for i, k in enumerate(self.unique_y):\n",
    "            X_k = self.X[self.y == k]\n",
    "            self.parameters.append(self._estimate_class_parameters(X_k))\n",
    "    \n",
    "    \n",
    "    ######## Make Classifications ########\n",
    "            \n",
    "    def _get_class_probability(self, x_n, j):\n",
    "        \n",
    "        class_parameters = self.parameters[j] # j is index of kth class\n",
    "        class_probability = 1 \n",
    "        \n",
    "        for d in range(self.D):\n",
    "            x_nd = x_n[d] # just the dth variable in observation x_n\n",
    "            \n",
    "            if self.distributions[d] == 'normal':\n",
    "                mu, sigma2 = class_parameters[d]\n",
    "                class_probability *= sigma2**(-1/2)*np.exp(-(x_nd - mu)**2/sigma2)\n",
    "            \n",
    "            if self.distributions[d] == 'bernoulli':\n",
    "                p = class_parameters[d]\n",
    "                class_probability *= (p**x_nd)*(1-p)**(1-x_nd)\n",
    "                \n",
    "            if self.distributions[d] == 'poisson':\n",
    "                lam = class_parameters[d]\n",
    "                class_probability *= np.exp(-lam)*lam**x_nd\n",
    "                \n",
    "        return class_probability \n",
    "            \n",
    "    def classify(self, X_test):\n",
    "        \n",
    "        y_n = np.empty(len(X_test))\n",
    "        for i, x_n in enumerate(X_test): # loop through test observations\n",
    "            \n",
    "            x_n = x_n.reshape(-1, 1)\n",
    "            p_ks = np.empty(len(self.unique_y))\n",
    "        \n",
    "            for j, k in enumerate(self.unique_y): # loop through classes\n",
    "                    \n",
    "                p_x_given_y = self._get_class_probability(x_n, j)\n",
    "                p_y_given_x = self.pi_ks[j]*p_x_given_y # bayes' rule\n",
    "\n",
    "                p_ks[j] = p_y_given_x\n",
    "            \n",
    "            y_n[i] = self.unique_y[np.argmax(p_ks)]\n",
    "        \n",
    "        return y_n\n",
    "            "
   ]
  },
  {
   "cell_type": "code",
   "execution_count": 12,
   "metadata": {},
   "outputs": [
    {
     "data": {
      "text/plain": [
       "0.9775280898876404"
      ]
     },
     "execution_count": 12,
     "metadata": {},
     "output_type": "execute_result"
    }
   ],
   "source": [
    "nb = NaiveBayes()\n",
    "nb.fit(X, y)\n",
    "yhat = nb.classify(X)\n",
    "np.mean(yhat == y)"
   ]
  },
  {
   "cell_type": "code",
   "execution_count": 13,
   "metadata": {},
   "outputs": [
    {
     "data": {
      "image/png": "[encoded data removed]",
      "text/plain": [
       "<Figure size 504x360 with 2 Axes>"
      ]
     },
     "metadata": {
      "needs_background": "light"
     },
     "output_type": "display_data"
    }
   ],
   "source": [
    "nb_2d = NaiveBayes()\n",
    "nb_2d.fit(X_2d, y)\n",
    "graph_boundaries(X_2d, nb_2d, 'Naive Bayes')"
   ]
  }
 ],
 "metadata": {
  "kernelspec": {
   "display_name": "Python 3",
   "language": "python",
   "name": "python3"
  },
  "language_info": {
   "codemirror_mode": {
    "name": "ipython",
    "version": 3
   },
   "file_extension": ".py",
   "mimetype": "text/x-python",
   "name": "python",
   "nbconvert_exporter": "python",
   "pygments_lexer": "ipython3",
   "version": "3.7.6"
  }
 },
 "nbformat": 4,
 "nbformat_minor": 4
}
