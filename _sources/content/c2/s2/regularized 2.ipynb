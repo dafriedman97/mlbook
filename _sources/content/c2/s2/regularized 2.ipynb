{
 "cells": [
  {
   "cell_type": "markdown",
   "metadata": {},
   "source": [
    "# Regularized Regression"
   ]
  },
  {
   "cell_type": "code",
   "execution_count": 6,
   "metadata": {},
   "outputs": [],
   "source": [
    "import numpy as np \n",
    "import matplotlib.pyplot as plt\n",
    "import seaborn as sns\n",
    "from sklearn import datasets\n",
    "\n",
    "boston = datasets.load_boston()\n",
    "X = boston['data']\n",
    "y = boston['target']"
   ]
  },
  {
   "cell_type": "markdown",
   "metadata": {},
   "source": [
    "Before building the `RegularizedRegression` class, let's define a few helper functions. The first function standardizes the data by removing the mean and dividing by the standard deviation. This is the equivalent of the `StandardScaler` from `scikit-learn`.\n",
    "\n",
    "The `sign` function simply returns the sign of each element in an array. This is useful for calculating the gradient in Lasso regression. The `first_element_zero` option makes the function return a 0 (rather than a -1 or 1) for the first element. As discussed in the {doc}`concept section </content/c2/s1/regularized>`, this prevents Lasso regression from penalizing the magnitude of the intercept. \n"
   ]
  },
  {
   "cell_type": "code",
   "execution_count": 7,
   "metadata": {},
   "outputs": [],
   "source": [
    "def standard_scaler(X):\n",
    "    means = X.mean(0)\n",
    "    stds = X.std(0)\n",
    "    return (X - means)/stds\n",
    "\n",
    "def sign(x, first_element_zero = False):\n",
    "    signs = (-1)**(x < 0)\n",
    "    if first_element_zero:\n",
    "        signs[0] = 0\n",
    "    return signs"
   ]
  },
  {
   "cell_type": "markdown",
   "metadata": {},
   "source": [
    "The `RegularizedRegression` class below contains methods for fitting Ridge and Lasso regression. The first method, `record_info`, handles standardization, adds an intercept to the predictors, and records the necessary values. The second, `fit_ridge`, fits Ridge regression using\n",
    "\n",
    "$$\n",
    "\\hat{\\bbeta} = \\left( \\bX^\\top \\bX + \\lambda I'\\right) ^{-1} \\bX^\\top \\by.\n",
    "$$\n",
    "\n",
    "The third method, `fit_lasso`, estimates the regression parameters using gradient descent. The gradient is the derivative of the Lasso loss function:\n",
    "\n",
    "$$\n",
    "\\dadb{L(\\bbetahat)}{\\bbetahat} = - \\bX^\\top\\left( \\by - \\bX \\bbetahat \\right) + \\lambda I'\\text{ sign}(\\bbetahat).\n",
    "$$\n",
    "\n",
    "The gradient descent used here simply adjusts the parameters a fixed number of times (determined by `n_iters`). There many more efficient ways to implement gradient descent, though we use a simple implementation here to keep focus on Lasso regression. "
   ]
  },
  {
   "cell_type": "code",
   "execution_count": 8,
   "metadata": {},
   "outputs": [],
   "source": [
    "class RegularizedRegression:\n",
    "        \n",
    "    def _record_info(self, X, y, lam, intercept, standardize):\n",
    "        \n",
    "        # standardize \n",
    "        if standardize == True: \n",
    "            X = standard_scaler(X)\n",
    "        \n",
    "        # add intercept\n",
    "        if intercept == False: \n",
    "            ones = np.ones(len(X)).reshape(len(X), 1) # column of ones \n",
    "            X = np.concatenate((ones, X), axis = 1) # concatenate\n",
    "            \n",
    "        # record values\n",
    "        self.X = np.array(X)\n",
    "        self.y = np.array(y)\n",
    "        self.N, self.D = self.X.shape\n",
    "        self.lam = lam\n",
    "        \n",
    "    def fit_ridge(self, X, y, lam = 0, intercept = False, standardize = True):\n",
    "        \n",
    "        # record data and dimensions\n",
    "        self._record_info(X, y, lam, intercept, standardize)\n",
    "        \n",
    "        # estimate parameters\n",
    "        XtX = np.dot(self.X.T, self.X)\n",
    "        I_prime = np.eye(self.D)\n",
    "        I_prime[0,0] = 0 \n",
    "        XtX_plus_lam_inverse = np.linalg.inv(XtX + self.lam*I_prime)\n",
    "        Xty = np.dot(self.X.T, self.y)\n",
    "        self.beta_hats = np.dot(XtX_plus_lam_inverse, Xty)\n",
    "        \n",
    "        # get fitted values\n",
    "        self.y_hat = np.dot(self.X, self.beta_hats)\n",
    "        \n",
    "        \n",
    "    def fit_lasso(self, X, y, lam = 0, n_iters = 2000,\n",
    "                  lr = 0.0001, intercept = False, standardize = True):\n",
    "\n",
    "        # record data and dimensions\n",
    "        self._record_info(X, y, lam, intercept, standardize)\n",
    "        \n",
    "        # estimate parameters\n",
    "        beta_hats = np.random.randn(self.D)\n",
    "        for i in range(n_iters):\n",
    "            dL_dbeta = -self.X.T @ (self.y - (self.X @ beta_hats)) + self.lam*sign(beta_hats, True)\n",
    "            beta_hats -= lr*dL_dbeta \n",
    "        self.beta_hats = beta_hats\n",
    "        \n",
    "        # get fitted values\n",
    "        self.y_hat = np.dot(self.X, self.beta_hats)\n"
   ]
  },
  {
   "cell_type": "markdown",
   "metadata": {},
   "source": [
    "The following cell runs Ridge and Lasso regression for the {doc}`Boston housing</content/appendix/data>` dataset. For simplicity, we somewhat arbitrarily choose $\\lambda = 10$—in practice, this value should be chosen through cross validation."
   ]
  },
  {
   "cell_type": "code",
   "execution_count": 9,
   "metadata": {},
   "outputs": [],
   "source": [
    "# set lambda\n",
    "lam = 10\n",
    "\n",
    "# fit ridge\n",
    "ridge_model = RegularizedRegression()\n",
    "ridge_model.fit_ridge(X, y, lam)\n",
    "\n",
    "# fit lasso\n",
    "lasso_model = RegularizedRegression()\n",
    "lasso_model.fit_lasso(X, y, lam)\n"
   ]
  },
  {
   "cell_type": "markdown",
   "metadata": {},
   "source": [
    "The below graphic shows the coefficient estimates using Ridge and Lasso regression with a changing value of $\\lambda$. Note that $\\lambda = 0$ is identical to ordinary linear regression. As expected, the magnitude of the coefficient estimates decreases as $\\lambda$ increases. "
   ]
  },
  {
   "cell_type": "code",
   "execution_count": 10,
   "metadata": {
    "tags": [
     "hide-input"
    ]
   },
   "outputs": [
    {
     "data": {
      "image/png": "[encoded data removed]",
      "text/plain": [
       "<Figure size 1296x720 with 6 Axes>"
      ]
     },
     "metadata": {
      "needs_background": "light"
     },
     "output_type": "display_data"
    }
   ],
   "source": [
    "Xs = ['X'+str(i + 1) for i in range(X.shape[1])]\n",
    "lams = [10**4, 10**2, 0]\n",
    "\n",
    "fig, ax = plt.subplots(nrows = 2, ncols = len(lams), figsize = (6*len(lams), 10), sharey = True)\n",
    "for i, lam in enumerate(lams):\n",
    "    \n",
    "    ridge_model = RegularizedRegression()\n",
    "    ridge_model.fit_lasso(X, y, lam) \n",
    "    ridge_betas = ridge_model.beta_hats[1:]\n",
    "    sns.barplot(Xs, ridge_betas, ax = ax[0, i], palette = 'PuBu')\n",
    "    ax[0, i].set(xlabel = 'Regressor', title = fr'Ridge Coefficients with $\\lambda = $ {lam}')\n",
    "    ax[0, i].set(xticks = np.arange(0, len(Xs), 2), xticklabels = Xs[::2])\n",
    "    \n",
    "    lasso_model = RegularizedRegression()\n",
    "    lasso_model.fit_lasso(X, y, lam) \n",
    "    lasso_betas = lasso_model.beta_hats[1:]\n",
    "    sns.barplot(Xs, lasso_betas, ax = ax[1, i], palette = 'PuBu')\n",
    "    ax[1, i].set(xlabel = 'Regressor', title = fr'Lasso Coefficients with $\\lambda = $ {lam}')\n",
    "    ax[1, i].set(xticks = np.arange(0, len(Xs), 2), xticklabels = Xs[::2])\n",
    "\n",
    "ax[0,0].set(ylabel = 'Coefficient')\n",
    "ax[1,0].set(ylabel = 'Coefficient')\n",
    "plt.subplots_adjust(wspace = 0.2, hspace = 0.4)\n",
    "sns.despine()\n",
    "sns.set_context('talk');"
   ]
  }
 ],
 "metadata": {
  "celltoolbar": "Edit Metadata",
  "kernelspec": {
   "display_name": "Python 3",
   "language": "python",
   "name": "python3"
  },
  "language_info": {
   "codemirror_mode": {
    "name": "ipython",
    "version": 3
   },
   "file_extension": ".py",
   "mimetype": "text/x-python",
   "name": "python",
   "nbconvert_exporter": "python",
   "pygments_lexer": "ipython3",
   "version": "3.7.6"
  }
 },
 "nbformat": 4,
 "nbformat_minor": 4
}
